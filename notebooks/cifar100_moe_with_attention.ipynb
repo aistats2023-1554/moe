{
 "cells": [
  {
   "cell_type": "markdown",
   "metadata": {
    "tags": []
   },
   "source": [
    "# Experiments with CIFAR-100 Dataset and Attentive Gate MoE Training"
   ]
  },
  {
   "cell_type": "markdown",
   "metadata": {},
   "source": [
    "The experiments in this notebook include training the attentive gate MoE models as follows:\n",
    "\n",
    "1. attentive gate MoE without regularization.\n",
    "2. attentive gate MoE with $L_{importance}$ regularization.\n",
    "3. attentive gate MoE with $L_s$ regularization."
   ]
  },
  {
   "cell_type": "code",
   "execution_count": 1,
   "metadata": {},
   "outputs": [],
   "source": [
    "import time\n",
    "import numpy as np\n",
    "import matplotlib.pyplot as plt\n",
    "import matplotlib.cm as cm  # colormaps\n",
    "\n",
    "%matplotlib inline"
   ]
  },
  {
   "cell_type": "code",
   "execution_count": 2,
   "metadata": {},
   "outputs": [],
   "source": [
    "import seaborn as sns\n",
    "import numpy as np\n",
    "from statistics import mean\n",
    "from math import ceil, sin, cos, radians\n",
    "from collections import OrderedDict\n",
    "import os\n",
    "import pandas as pd\n",
    "from pprint import pprint\n",
    "from copy import deepcopy\n",
    "from itertools import product"
   ]
  },
  {
   "cell_type": "code",
   "execution_count": 3,
   "metadata": {},
   "outputs": [],
   "source": [
    "import torch\n",
    "import torchvision\n",
    "import torch.nn as nn\n",
    "import torch.nn.functional as F\n",
    "import torch.optim as optim\n",
    "from torch.utils.data import TensorDataset\n",
    "import torchvision.transforms.functional as TF\n",
    "import torchvision.transforms as transforms"
   ]
  },
  {
   "cell_type": "code",
   "execution_count": 4,
   "metadata": {},
   "outputs": [
    {
     "name": "stdout",
     "output_type": "stream",
     "text": [
      "device cuda:0\n"
     ]
    }
   ],
   "source": [
    "if torch.cuda.is_available():\n",
    "    device = torch.device(\"cuda:0\")\n",
    "else:\n",
    "    device = torch.device(\"cpu\")\n",
    "print('device', device)"
   ]
  },
  {
   "cell_type": "code",
   "execution_count": 5,
   "metadata": {},
   "outputs": [
    {
     "name": "stdout",
     "output_type": "stream",
     "text": [
      "device cuda:0\n"
     ]
    }
   ],
   "source": [
    "# import MoE expectation model. All experiments for this dataset are done with the expectation model as it\n",
    "# provides the best guarantee of interpretable task decompositions\n",
    "from moe_models.moe_expectation_model import moe_expectation_model\n",
    "from helper.moe_models import cross_entropy_loss\n",
    "from helper.visualise_results import *"
   ]
  },
  {
   "cell_type": "code",
   "execution_count": 6,
   "metadata": {},
   "outputs": [],
   "source": [
    "# Paths to where the trained models and figures will be stored. You can change this as you see fit.\n",
    "fig_path = '../figures'\n",
    "model_path = '../models'\n",
    "results_path = '../results'\n",
    "\n",
    "if not os.path.exists(fig_path):\n",
    "    os.mkdir(fig_path)\n",
    "if not os.path.exists(model_path):\n",
    "    os.mkdir(model_path)\n",
    "if not os.path.exists(results_path):\n",
    "    os.mkdir(results_path)"
   ]
  },
  {
   "cell_type": "code",
   "execution_count": 7,
   "metadata": {},
   "outputs": [],
   "source": [
    "stats = ((0.5074,0.4867,0.4411),(0.2011,0.1987,0.2025))\n",
    "train_transform = transforms.Compose([\n",
    "    transforms.RandomHorizontalFlip(),\n",
    "    transforms.RandomCrop(32,padding=4,padding_mode=\"reflect\"),\n",
    "    transforms.ToTensor(),\n",
    "    transforms.Normalize(*stats)\n",
    "])\n",
    "\n",
    "test_transform = transforms.Compose([\n",
    "    transforms.ToTensor(),\n",
    "    transforms.Normalize(*stats)\n",
    "])"
   ]
  },
  {
   "cell_type": "code",
   "execution_count": 8,
   "metadata": {
    "scrolled": true,
    "tags": []
   },
   "outputs": [
    {
     "name": "stdout",
     "output_type": "stream",
     "text": [
      "Files already downloaded and verified\n",
      "Files already downloaded and verified\n"
     ]
    },
    {
     "data": {
      "text/plain": [
       "(Dataset CIFAR100\n",
       "     Number of datapoints: 10000\n",
       "     Root location: ./data\n",
       "     Split: Test\n",
       "     StandardTransform\n",
       " Transform: Compose(\n",
       "                ToTensor()\n",
       "                Normalize(mean=(0.5074, 0.4867, 0.4411), std=(0.2011, 0.1987, 0.2025))\n",
       "            ),\n",
       " Dataset CIFAR100\n",
       "     Number of datapoints: 50000\n",
       "     Root location: ./data\n",
       "     Split: Train\n",
       "     StandardTransform\n",
       " Transform: Compose(\n",
       "                RandomHorizontalFlip(p=0.5)\n",
       "                RandomCrop(size=(32, 32), padding=4)\n",
       "                ToTensor()\n",
       "                Normalize(mean=(0.5074, 0.4867, 0.4411), std=(0.2011, 0.1987, 0.2025))\n",
       "            ))"
      ]
     },
     "execution_count": 8,
     "metadata": {},
     "output_type": "execute_result"
    }
   ],
   "source": [
    "cifar100_trainset = torchvision.datasets.CIFAR100(root='./data', train=True, download=True, transform=train_transform)\n",
    "cifar100_testset = torchvision.datasets.CIFAR100(root='./data', train=False, download=True, transform=test_transform)\n",
    "cifar100_testset, cifar100_trainset"
   ]
  },
  {
   "cell_type": "code",
   "execution_count": 9,
   "metadata": {},
   "outputs": [],
   "source": [
    "num_classes = 100"
   ]
  },
  {
   "cell_type": "code",
   "execution_count": 10,
   "metadata": {},
   "outputs": [],
   "source": [
    "trainsize = 50000\n",
    "testsize = 10000"
   ]
  },
  {
   "cell_type": "code",
   "execution_count": 11,
   "metadata": {},
   "outputs": [],
   "source": [
    "batch_size = 256"
   ]
  },
  {
   "cell_type": "code",
   "execution_count": 12,
   "metadata": {},
   "outputs": [],
   "source": [
    "cifar100_trainloader = torch.utils.data.DataLoader(torch.utils.data.Subset(cifar100_trainset, range(trainsize)), batch_size=batch_size,\n",
    "                                          shuffle=True, num_workers=4, pin_memory=True)\n",
    "cifar100_testloader = torch.utils.data.DataLoader(torch.utils.data.Subset(cifar100_testset, range(testsize)), batch_size=batch_size,\n",
    "                                         shuffle=True, num_workers=4, pin_memory=True)"
   ]
  },
  {
   "cell_type": "code",
   "execution_count": 13,
   "metadata": {
    "scrolled": true,
    "tags": []
   },
   "outputs": [
    {
     "data": {
      "text/plain": [
       "['apple',\n",
       " 'aquarium_fish',\n",
       " 'baby',\n",
       " 'bear',\n",
       " 'beaver',\n",
       " 'bed',\n",
       " 'bee',\n",
       " 'beetle',\n",
       " 'bicycle',\n",
       " 'bottle',\n",
       " 'bowl',\n",
       " 'boy',\n",
       " 'bridge',\n",
       " 'bus',\n",
       " 'butterfly',\n",
       " 'camel',\n",
       " 'can',\n",
       " 'castle',\n",
       " 'caterpillar',\n",
       " 'cattle',\n",
       " 'chair',\n",
       " 'chimpanzee',\n",
       " 'clock',\n",
       " 'cloud',\n",
       " 'cockroach',\n",
       " 'couch',\n",
       " 'cra',\n",
       " 'crocodile',\n",
       " 'cup',\n",
       " 'dinosaur',\n",
       " 'dolphin',\n",
       " 'elephant',\n",
       " 'flatfish',\n",
       " 'forest',\n",
       " 'fox',\n",
       " 'girl',\n",
       " 'hamster',\n",
       " 'house',\n",
       " 'kangaroo',\n",
       " 'keyboard',\n",
       " 'lamp',\n",
       " 'lawn_mower',\n",
       " 'leopard',\n",
       " 'lion',\n",
       " 'lizard',\n",
       " 'lobster',\n",
       " 'man',\n",
       " 'maple_tree',\n",
       " 'motorcycle',\n",
       " 'mountain',\n",
       " 'mouse',\n",
       " 'mushroom',\n",
       " 'oak_tree',\n",
       " 'orange',\n",
       " 'orchid',\n",
       " 'otter',\n",
       " 'palm_tree',\n",
       " 'pear',\n",
       " 'pickup_truck',\n",
       " 'pine_tree',\n",
       " 'plain',\n",
       " 'plate',\n",
       " 'poppy',\n",
       " 'porcupine',\n",
       " 'possum',\n",
       " 'rabbit',\n",
       " 'raccoon',\n",
       " 'ray',\n",
       " 'road',\n",
       " 'rocket',\n",
       " 'rose',\n",
       " 'sea',\n",
       " 'seal',\n",
       " 'shark',\n",
       " 'shrew',\n",
       " 'skunk',\n",
       " 'skyscraper',\n",
       " 'snail',\n",
       " 'snake',\n",
       " 'spider',\n",
       " 'squirrel',\n",
       " 'streetcar',\n",
       " 'sunflower',\n",
       " 'sweet_pepper',\n",
       " 'table',\n",
       " 'tank',\n",
       " 'telephone',\n",
       " 'television',\n",
       " 'tiger',\n",
       " 'tractor',\n",
       " 'train',\n",
       " 'trout',\n",
       " 'tulip',\n",
       " 'turtle',\n",
       " 'wardrobe',\n",
       " 'whale',\n",
       " 'willow_tree',\n",
       " 'wolf',\n",
       " 'woman',\n",
       " 'worm']"
      ]
     },
     "execution_count": 13,
     "metadata": {},
     "output_type": "execute_result"
    }
   ],
   "source": [
    "import csv\n",
    "with open(os.path.join('./data','cifar100_class_names.txt'),'r') as csvfile:\n",
    "    csvreader = csv.reader(csvfile, delimiter=' ')\n",
    "    classes_cifar100 = []\n",
    "    for row in csvreader:\n",
    "        if row:\n",
    "            classes_cifar100.append(row[1])\n",
    "\n",
    "classes_cifar100     "
   ]
  },
  {
   "cell_type": "code",
   "execution_count": 14,
   "metadata": {},
   "outputs": [],
   "source": [
    "#Function to display the images\n",
    "def plot_colour_images(images_to_plot, titles=None, nrows=None, ncols=6, thefigsize=(18,18)):\n",
    "    # images_to_plot: list of images to be displayed\n",
    "    # titles: list of titles corresponding to the images\n",
    "    # ncols: The number of images per row to display. The number of rows \n",
    "    #        is computed from the number of images to display and the ncols\n",
    "    # theFigsize: The size of the layour of all the displayed images\n",
    "    \n",
    "    n_images = images_to_plot.shape[0]\n",
    "    \n",
    "    # Compute the number of rows\n",
    "    if nrows is None:\n",
    "        nrows = np.ceil(n_images/ncols).astype(int)\n",
    "    \n",
    "    fig,ax = plt.subplots(nrows, ncols, sharex=True, sharey=True, figsize=thefigsize)\n",
    "    ax = ax.flatten()\n",
    "    \n",
    "    for i in range(n_images):\n",
    "        img = images_to_plot[i,:,:,:]\n",
    "        npimg = np.clip(img.numpy(),0,1)\n",
    "        ax[i].imshow(npimg) \n",
    "        ax[i].axis('off')  \n",
    "        if titles is not None and i<10:\n",
    "            ax[i].set_title(titles[i%10])"
   ]
  },
  {
   "cell_type": "code",
   "execution_count": 15,
   "metadata": {},
   "outputs": [
    {
     "data": {
      "image/png": "[encoded data removed]",
      "text/plain": [
       "<Figure size 2000x600 with 30 Axes>"
      ]
     },
     "metadata": {},
     "output_type": "display_data"
    }
   ],
   "source": [
    "# get some random training images\n",
    "dataiter = iter(cifar100_trainloader)\n",
    "images, labels = dataiter.next()\n",
    "\n",
    "images_to_plot = []\n",
    "count = 0\n",
    "selected_labels = []\n",
    "for i in range(100):\n",
    "    if count == 10:\n",
    "        break\n",
    "    index = np.where(labels==i)[0]\n",
    "    if len(index) >= 3:\n",
    "        selected_labels.append(i)\n",
    "        images_to_plot.append(images[index[0:3],:,:])\n",
    "        count += 1\n",
    "    \n",
    "selected_labels = [classes_cifar100[i] for i in selected_labels]\n",
    "images_to_plot = torch.transpose(torch.stack(images_to_plot),0,1)\n",
    "new_shape = images_to_plot.shape\n",
    "images_to_plot = images_to_plot.reshape(new_shape[0]*new_shape[1], new_shape[2], new_shape[3], new_shape[4])\n",
    "images_to_plot = images_to_plot.permute(0,2,3,1)\n",
    "plot_colour_images(images_to_plot, nrows=3, ncols=10,thefigsize=(20,6), titles=selected_labels)"
   ]
  },
  {
   "cell_type": "markdown",
   "metadata": {},
   "source": [
    "## Define expert and gate networks"
   ]
  },
  {
   "cell_type": "code",
   "execution_count": 16,
   "metadata": {},
   "outputs": [],
   "source": [
    "# Convolutional network with one convultional layer and 2 hidden layers with ReLU activation\n",
    "class expert_layers(nn.Module):\n",
    "    def __init__(self, num_classes, channels=3):\n",
    "        super(expert_layers, self).__init__()\n",
    "        filter_size = 3\n",
    "        self.filters = 16\n",
    "        self.conv1 = nn.Conv2d(in_channels=3, out_channels=self.filters, kernel_size=filter_size, padding=1)\n",
    "        self.conv2 = nn.Conv2d(in_channels=self.filters, out_channels=self.filters*2, kernel_size=filter_size, stride=1, padding=1, bias=False)\n",
    "        self.bn2 = nn.BatchNorm2d(self.filters*2)\n",
    "        self.mp = nn.MaxPool2d(2,2)\n",
    "\n",
    "        self.conv3 = nn.Conv2d(in_channels= self.filters*2, out_channels=self.filters*4, kernel_size=filter_size, stride=1, padding=1)\n",
    "        self.conv4 = nn.Conv2d(in_channels=self.filters*4, out_channels=self.filters*8, kernel_size=filter_size, stride=1, padding=1,bias=False)\n",
    "        self.bn8 = nn.BatchNorm2d(self.filters*8)\n",
    "\n",
    "        self.fc1 = nn.Linear(self.filters*8*2*2,1024)\n",
    "        self.fc2 = nn.Linear(1024, 256)\n",
    "        \n",
    "        self.out = nn.Linear(in_features=256, out_features=num_classes)\n",
    "                        \n",
    "    def forward(self, x):\n",
    "        # conv 1        \n",
    "        x = self.mp(F.relu(self.conv1(x)))\n",
    "        x = self.mp(F.relu(self.bn2(self.conv2(x))))    \n",
    "    \n",
    "        x = self.mp(F.relu(self.conv3(x)))\n",
    "        x = self.mp(F.relu(self.bn8(self.conv4(x))))\n",
    "        \n",
    "        x = x.reshape(-1, self.filters*8*2*2)\n",
    "\n",
    "        x = F.relu(self.fc1(x))\n",
    "        x = self.fc2(x)\n",
    "        \n",
    "        self.hidden = x\n",
    "        \n",
    "        x = F.relu(x)\n",
    "        \n",
    "        x = self.out(x)\n",
    "        \n",
    "        # output\n",
    "        x = F.softmax(x, dim=1)\n",
    "\n",
    "        return x    \n"
   ]
  },
  {
   "cell_type": "code",
   "execution_count": 17,
   "metadata": {},
   "outputs": [],
   "source": [
    "class gate_attn_layers(nn.Module):\n",
    "    def __init__(self, num_experts):\n",
    "        super(gate_attn_layers, self).__init__()\n",
    "        # define layers\n",
    "       # define layers\n",
    "        filter_size = 3\n",
    "        self.filters = 64\n",
    "        self.conv1 = nn.Conv2d(in_channels=3, out_channels=self.filters, kernel_size=filter_size, padding=1)\n",
    "        self.conv2 = nn.Conv2d(in_channels=self.filters, out_channels=self.filters*2, kernel_size=filter_size, stride=1, padding=1, bias=False)\n",
    "        self.bn2 = nn.BatchNorm2d(self.filters*2)\n",
    "        self.mp = nn.MaxPool2d(2,2)\n",
    "        \n",
    "        self.conv3 = nn.Conv2d(in_channels= self.filters*2, out_channels=self.filters*4, kernel_size=filter_size, stride=1, padding=1)\n",
    "        self.conv4 = nn.Conv2d(in_channels=self.filters*4, out_channels=self.filters*8, kernel_size=filter_size, stride=1, padding=1, bias=False)\n",
    "        self.bn8 = nn.BatchNorm2d(self.filters*8)\n",
    "\n",
    "        self.fc1 = nn.Linear(self.filters*8*2*2, 1024)\n",
    "        self.fc2 = nn.Linear(1024, 256)\n",
    "                 \n",
    "    def forward(self, x, T=1.0, y=None):\n",
    "        # conv 1\n",
    "        x = self.mp(F.relu(self.conv1(x)))\n",
    "        x = self.mp(F.relu(self.bn2(self.conv2(x))))\n",
    "\n",
    "        x = self.mp(F.relu(self.conv3(x)))\n",
    "        x = self.mp(F.relu(self.bn8(self.conv4(x))))\n",
    "        \n",
    "        x = x.reshape(-1, self.filters*8*2*2)\n",
    "        \n",
    "        x = F.relu(self.fc1(x))\n",
    "        x = self.fc2(x)\n",
    "        \n",
    "        return x\n"
   ]
  },
  {
   "cell_type": "code",
   "execution_count": 18,
   "metadata": {},
   "outputs": [],
   "source": [
    "class gate_layers(nn.Module):\n",
    "    def __init__(self, num_experts):\n",
    "        super(gate_layers, self).__init__()\n",
    "        # define layers\n",
    "        filter_size = 3\n",
    "        self.filters = 64\n",
    "        self.conv1 = nn.Conv2d(in_channels=3, out_channels=self.filters, kernel_size=filter_size, padding=1)\n",
    "        self.conv2 = nn.Conv2d(in_channels=self.filters, out_channels=self.filters*2, kernel_size=filter_size, stride=1, padding=1, bias=False)\n",
    "        self.bn2 = nn.BatchNorm2d(self.filters*2)\n",
    "        self.mp = nn.MaxPool2d(2,2)\n",
    "        \n",
    "        self.conv3 = nn.Conv2d(in_channels= self.filters*2, out_channels=self.filters*4, kernel_size=filter_size, stride=1, padding=1)\n",
    "        self.conv4 = nn.Conv2d(in_channels=self.filters*4, out_channels=self.filters*8, kernel_size=filter_size, stride=1, padding=1, bias=False)\n",
    "        self.bn8 = nn.BatchNorm2d(self.filters*8)\n",
    "\n",
    "        self.fc1 = nn.Linear(self.filters*8*2*2, 1024)\n",
    "        self.fc2 = nn.Linear(1024, 256)\n",
    "        \n",
    "        self.out = nn.Linear(in_features=256, out_features=num_experts)\n",
    "        \n",
    "    def forward(self, x, T=1.0, y=None):\n",
    "        # conv 1        \n",
    "        x = self.mp(F.relu(self.conv1(x)))\n",
    "        x = self.mp(F.relu(self.bn2(self.conv2(x))))\n",
    "\n",
    "        x = self.mp(F.relu(self.conv3(x)))\n",
    "        x = self.mp(F.relu(self.bn8(self.conv4(x))))\n",
    "        \n",
    "        x = x.reshape(-1, self.filters*8*2*2)\n",
    "        \n",
    "        x = F.relu(self.fc1(x))\n",
    "        x = F.relu(self.fc2(x))\n",
    "        \n",
    "        x = self.out(x)\n",
    "        x = F.softmax(x/T, dim=1)\n",
    "        return x\n"
   ]
  },
  {
   "cell_type": "code",
   "execution_count": 19,
   "metadata": {
    "tags": []
   },
   "outputs": [],
   "source": [
    "# create a set of experts\n",
    "def experts(num_experts, num_classes, expert_layers_type=expert_layers):\n",
    "    models = []\n",
    "    for i in range(num_experts):\n",
    "        models.append(expert_layers_type(num_classes))\n",
    "    return nn.ModuleList(models)"
   ]
  },
  {
   "cell_type": "markdown",
   "metadata": {},
   "source": [
    "## Initialize configurations and helper functions"
   ]
  },
  {
   "cell_type": "code",
   "execution_count": 20,
   "metadata": {},
   "outputs": [],
   "source": [
    "# Compute accuracy of the model\n",
    "def accuracy(out, yb, mean=True):\n",
    "    preds = torch.argmax(out, dim=1).to(device, non_blocking=True)\n",
    "    if mean:\n",
    "        return (preds == yb).float().mean()\n",
    "    else:\n",
    "        return (preds == yb).float()"
   ]
  },
  {
   "cell_type": "markdown",
   "metadata": {
    "tags": []
   },
   "source": [
    "## Functions to train models"
   ]
  },
  {
   "cell_type": "markdown",
   "metadata": {},
   "source": [
    "### Function to train attentive gate model with and without regularization\n",
    "\n",
    "* w_importance_range is the range of values for the $w_{importance}$ hyperparameter of the $L_{importance}$ regularization.\n",
    "* w_sample_sim_same_range is the range of values for $\\beta_s$ hyperparameter of the $L_s$ regularization.\n",
    "* w_sample_sim_diff_range is the range of values for $\\beta_d$ hyperparameter of the $L_s$ regularization."
   ]
  },
  {
   "cell_type": "code",
   "execution_count": 21,
   "metadata": {
    "tags": []
   },
   "outputs": [],
   "source": [
    "def train_with_attention(model_1, trainloader, testloader, runs, temps=[[1.0]*20], \n",
    "                         w_importance_range=[0.0], w_sample_sim_same_range=[0.0], \n",
    "                         w_sample_sim_diff_range=[0.0], \n",
    "                         num_classes=10, total_experts=5, num_epochs=20):\n",
    "    \n",
    "    hidden = 256\n",
    "    \n",
    "    for T, w_importance, w_sample_sim_same, w_sample_sim_diff in product(temps, w_importance_range, w_sample_sim_same_range,  \n",
    "                                                                         w_sample_sim_diff_range):                                                                       \n",
    "        \n",
    "        print('w_importance','{:.1f}'.format(w_importance))\n",
    "        if w_sample_sim_same < 1:\n",
    "            print('w_sample_sim_same',str(w_sample_sim_same))\n",
    "        else:\n",
    "            print('w_sample_sim_same','{:.1f}'.format(w_sample_sim_same))\n",
    "        \n",
    "        if w_sample_sim_diff < 1:\n",
    "            print('w_sample_sim_diff',str(w_sample_sim_diff))\n",
    "        else:\n",
    "            print('w_sample_sim_diff','{:.1f}'.format(w_sample_sim_diff))\n",
    "        \n",
    "        for run in range(1, runs+1):\n",
    "\n",
    "            print('Run:', run)\n",
    "            \n",
    "            n_run_models_1 = []\n",
    "            \n",
    "            models = {'moe_expectation_model':{'model':moe_expectation_model,'loss':cross_entropy_loss().to(device),\n",
    "                                               'experts':{}},}\n",
    "            for key, val in models.items():\n",
    "\n",
    "                expert_models = experts(total_experts, num_classes).to(device)\n",
    "                \n",
    "                gate_model = gate_attn_layers(total_experts).to(device)\n",
    "\n",
    "                moe_model = val['model'](total_experts, num_classes, attention_flag=1, hidden=hidden, \n",
    "                                         experts=expert_models, gate=gate_model, device=device).to(device)\n",
    "                \n",
    "                optimizer_moe = optim.Adam(moe_model.parameters(), lr=0.001, amsgrad=False)\n",
    "                \n",
    "\n",
    "                hist = moe_model.train(trainloader, testloader,  val['loss'], optimizer_moe = optimizer_moe,\n",
    "                                       T = T, w_importance=w_importance, \n",
    "                                       accuracy=accuracy, epochs=num_epochs)\n",
    "                val['experts'][total_experts] = {'model':moe_model, 'history':hist}\n",
    "\n",
    "            # Save all the trained models\n",
    "            plot_file = generate_plot_file(model_1, T[0], w_importance=w_importance, w_sample_sim_same=w_sample_sim_same,w_sample_sim_diff=w_sample_sim_diff,\n",
    "                                           specific=str(num_classes)+'_'+str(total_experts)+'_models.pt')\n",
    "            \n",
    "            if os.path.exists(os.path.join(model_path, plot_file)):\n",
    "                n_run_models_1 = torch.load(open(os.path.join(model_path, plot_file),'rb'))\n",
    "            n_run_models_1.append(models)\n",
    "            torch.save(n_run_models_1,open(os.path.join(model_path, plot_file),'wb'))\n",
    "            n_run_models_1 = []\n",
    "            "
   ]
  },
  {
   "cell_type": "markdown",
   "metadata": {},
   "source": [
    "### Function to distill the attentive gate model to the original model"
   ]
  },
  {
   "cell_type": "code",
   "execution_count": 22,
   "metadata": {
    "tags": []
   },
   "outputs": [],
   "source": [
    "def train_from_model(m, num_epochs, num_classes, total_experts, w_importance_range=[0.0], \n",
    "                     w_sample_sim_same_range=[0.0], w_sample_sim_diff_range=[0.0],\n",
    "                     trainloader=None, testloader=None, expert_no_grad=True, gate_no_grad=False):\n",
    "    \n",
    "    T = [1.0]*num_epochs\n",
    "    for w_importance, w_sample_sim_same, w_sample_sim_diff in product(w_importance_range, w_sample_sim_same_range, w_sample_sim_diff_range):\n",
    "        \n",
    "        print('w_importance','{:.1f}'.format(w_importance))\n",
    "        \n",
    "        if w_sample_sim_same < 1:\n",
    "            print('w_sample_sim_same',str(w_sample_sim_same))\n",
    "        else:\n",
    "            print('w_sample_sim_same','{:.1f}'.format(w_sample_sim_same))\n",
    "        \n",
    "        if w_sample_sim_diff < 1:\n",
    "            print('w_sample_sim_diff',str(w_sample_sim_diff))\n",
    "        else:\n",
    "            print('w_sample_sim_diff','{:.1f}'.format(w_sample_sim_diff))\n",
    "        \n",
    "        plot_file = generate_plot_file(m, temp=T[0], w_importance=w_importance,  \n",
    "                                       w_sample_sim_same=w_sample_sim_same,w_sample_sim_diff=w_sample_sim_diff,\n",
    "                                       specific=str(num_classes)+'_'+str(total_experts)+'_models.pt')\n",
    "\n",
    "        attn_models = torch.load(open(os.path.join(model_path, plot_file),'rb'), map_location=device)\n",
    "\n",
    "        n_run_models_1 = []\n",
    "        for model in attn_models: \n",
    "            # Initialise the new expert weights to the weights of the experts of the trained attentive gate model.\n",
    "            # Fix all the weights of the new experts so they are not trained. \n",
    "\n",
    "            new_expert_models = experts(total_experts, num_classes).to(device)\n",
    "            old_expert_models = model['moe_expectation_model']['experts'][total_experts]['model'].experts\n",
    "            for i, expert in enumerate(new_expert_models):\n",
    "                old_expert = old_expert_models[i]\n",
    "                expert.load_state_dict(old_expert.state_dict())\n",
    "                if expert_no_grad:\n",
    "                    for param in expert.parameters():\n",
    "                        param.requires_grad = False\n",
    "\n",
    "            new_gate_model = gate_layers(total_experts).to(device)\n",
    "            old_gate_model = model['moe_expectation_model']['experts'][total_experts]['model'].gate\n",
    "            new_gate_model.load_state_dict(old_gate_model.state_dict(), strict=False)\n",
    "\n",
    "            if gate_no_grad:\n",
    "                for param in new_gate_model.parameters():\n",
    "                    param.requires_grad = False\n",
    "                new_gate_model.out = nn.Linear(in_features=32, out_features=num_experts)\n",
    "                \n",
    "            gate_model = new_gate_model\n",
    "\n",
    "            models = {'moe_expectation_model':{'model':moe_expectation_model,'loss':cross_entropy_loss().to(device),\n",
    "                                           'experts':{}},}\n",
    "\n",
    "            for key, val in models.items():\n",
    "\n",
    "                # gate_model = gate_layers(total_experts).to(device)                \n",
    "\n",
    "                moe_model = val['model'](total_experts, num_classes,\n",
    "                                         experts=new_expert_models, gate= gate_model, device=device).to(device)\n",
    "\n",
    "                optimizer_moe = optim.Adam(moe_model.parameters(), lr=0.001, amsgrad=False)\n",
    "\n",
    "\n",
    "                hist = moe_model.train(trainloader, testloader,  val['loss'], optimizer_moe = optimizer_moe,\n",
    "                                       T = T, accuracy=accuracy, epochs=num_epochs)\n",
    "                val['experts'][total_experts] = {'model':moe_model, 'history':hist}\n",
    "\n",
    "            plot_file = generate_plot_file('new_'+m, T[0], w_importance=w_importance, w_sample_sim_same=w_sample_sim_same,w_sample_sim_diff=w_sample_sim_diff,\n",
    "                                           specific=str(num_classes)+'_'+str(total_experts)+'_models.pt')\n",
    "        \n",
    "            if os.path.exists(os.path.join(model_path, plot_file)):\n",
    "                n_run_models_1 = torch.load(open(os.path.join(model_path, plot_file),'rb'))\n",
    "                \n",
    "            n_run_models_1.append(models)                                \n",
    "            torch.save(n_run_models_1,open(os.path.join(model_path, plot_file),'wb'))\n",
    "            n_run_models_1 = []\n",
    "            print(plot_file)        \n"
   ]
  },
  {
   "cell_type": "markdown",
   "metadata": {},
   "source": [
    "## Experiments"
   ]
  },
  {
   "cell_type": "markdown",
   "metadata": {
    "tags": []
   },
   "source": [
    "### Experiment 1: Attentive gate MoE model training"
   ]
  },
  {
   "cell_type": "code",
   "execution_count": 28,
   "metadata": {},
   "outputs": [],
   "source": [
    "# Model with gate and expert parameters initialized to default values\n",
    "model_1 = 'cifar100_with_attention'"
   ]
  },
  {
   "cell_type": "code",
   "execution_count": 29,
   "metadata": {},
   "outputs": [],
   "source": [
    "total_experts = 20"
   ]
  },
  {
   "cell_type": "code",
   "execution_count": 30,
   "metadata": {
    "tags": []
   },
   "outputs": [],
   "source": [
    "num_epochs = 40"
   ]
  },
  {
   "cell_type": "code",
   "execution_count": 31,
   "metadata": {},
   "outputs": [],
   "source": [
    "temps = [[1]*num_epochs]"
   ]
  },
  {
   "cell_type": "code",
   "execution_count": 32,
   "metadata": {
    "tags": []
   },
   "outputs": [],
   "source": [
    "runs = 1"
   ]
  },
  {
   "cell_type": "code",
   "execution_count": 33,
   "metadata": {
    "scrolled": true,
    "tags": []
   },
   "outputs": [
    {
     "name": "stdout",
     "output_type": "stream",
     "text": [
      "w_importance 0.0\n",
      "w_sample_sim_same 0.0\n",
      "w_sample_sim_diff 0.0\n",
      "Run: 1\n",
      "epoch 0 training loss 3.91 , training accuracy 0.11 , test accuracy 0.17\n",
      "epoch 1 training loss 3.21 , training accuracy 0.22 , test accuracy 0.25\n",
      "epoch 2 training loss 2.95 , training accuracy 0.27 , test accuracy 0.29\n",
      "epoch 3 training loss 2.71 , training accuracy 0.32 , test accuracy 0.33\n",
      "epoch 4 training loss 2.58 , training accuracy 0.35 , test accuracy 0.35\n",
      "epoch 5 training loss 2.45 , training accuracy 0.38 , test accuracy 0.38\n",
      "epoch 6 training loss 2.35 , training accuracy 0.40 , test accuracy 0.39\n",
      "epoch 7 training loss 2.37 , training accuracy 0.40 , test accuracy 0.39\n",
      "epoch 8 training loss 2.23 , training accuracy 0.43 , test accuracy 0.42\n",
      "epoch 9 training loss 2.13 , training accuracy 0.45 , test accuracy 0.42\n",
      "epoch 10 training loss 2.06 , training accuracy 0.47 , test accuracy 0.45\n",
      "epoch 11 training loss 2.01 , training accuracy 0.48 , test accuracy 0.46\n",
      "epoch 12 training loss 1.95 , training accuracy 0.49 , test accuracy 0.48\n",
      "epoch 13 training loss 1.89 , training accuracy 0.51 , test accuracy 0.48\n",
      "epoch 14 training loss 1.85 , training accuracy 0.52 , test accuracy 0.47\n",
      "epoch 15 training loss 1.81 , training accuracy 0.53 , test accuracy 0.48\n",
      "epoch 16 training loss 1.77 , training accuracy 0.54 , test accuracy 0.49\n",
      "epoch 17 training loss 1.73 , training accuracy 0.54 , test accuracy 0.49\n",
      "epoch 18 training loss 1.70 , training accuracy 0.55 , test accuracy 0.49\n",
      "epoch 19 training loss 1.65 , training accuracy 0.57 , test accuracy 0.50\n",
      "epoch 20 training loss 1.50 , training accuracy 0.59 , test accuracy 0.53\n",
      "epoch 21 training loss 1.45 , training accuracy 0.60 , test accuracy 0.52\n",
      "epoch 22 training loss 1.43 , training accuracy 0.60 , test accuracy 0.53\n",
      "epoch 23 training loss 1.42 , training accuracy 0.61 , test accuracy 0.52\n",
      "epoch 24 training loss 1.39 , training accuracy 0.61 , test accuracy 0.53\n",
      "epoch 25 training loss 1.38 , training accuracy 0.62 , test accuracy 0.53\n",
      "epoch 26 training loss 1.37 , training accuracy 0.62 , test accuracy 0.53\n",
      "epoch 27 training loss 1.34 , training accuracy 0.63 , test accuracy 0.54\n",
      "epoch 28 training loss 1.33 , training accuracy 0.63 , test accuracy 0.53\n",
      "epoch 29 training loss 1.32 , training accuracy 0.63 , test accuracy 0.53\n",
      "epoch 30 training loss 1.33 , training accuracy 0.63 , test accuracy 0.53\n",
      "epoch 31 training loss 1.29 , training accuracy 0.64 , test accuracy 0.54\n",
      "epoch 32 training loss 1.27 , training accuracy 0.64 , test accuracy 0.54\n",
      "epoch 33 training loss 1.27 , training accuracy 0.65 , test accuracy 0.54\n",
      "epoch 34 training loss 1.26 , training accuracy 0.65 , test accuracy 0.54\n",
      "epoch 35 training loss 1.24 , training accuracy 0.65 , test accuracy 0.54\n",
      "epoch 36 training loss 1.23 , training accuracy 0.66 , test accuracy 0.53\n",
      "epoch 37 training loss 1.22 , training accuracy 0.66 , test accuracy 0.54\n",
      "epoch 38 training loss 1.21 , training accuracy 0.66 , test accuracy 0.54\n",
      "epoch 39 training loss 1.20 , training accuracy 0.67 , test accuracy 0.54\n"
     ]
    }
   ],
   "source": [
    "train_with_attention(model_1, cifar100_trainloader, cifar100_testloader, runs, temps=temps, num_classes=num_classes, \n",
    "                 total_experts=total_experts, num_epochs=num_epochs)"
   ]
  },
  {
   "cell_type": "markdown",
   "metadata": {
    "tags": []
   },
   "source": [
    "### Experiment 2: Attentive gate MoE model training with $L_{importance}$ regularization"
   ]
  },
  {
   "cell_type": "code",
   "execution_count": 34,
   "metadata": {},
   "outputs": [],
   "source": [
    "# Model with gate and expert parameters initialized to default values\n",
    "model_2 = 'cifar100_with_attn_reg'"
   ]
  },
  {
   "cell_type": "code",
   "execution_count": 35,
   "metadata": {},
   "outputs": [],
   "source": [
    "total_experts = 20"
   ]
  },
  {
   "cell_type": "code",
   "execution_count": 36,
   "metadata": {},
   "outputs": [],
   "source": [
    "num_epochs = 40"
   ]
  },
  {
   "cell_type": "code",
   "execution_count": 41,
   "metadata": {
    "tags": []
   },
   "outputs": [
    {
     "name": "stdout",
     "output_type": "stream",
     "text": [
      "w_importance_range =  ['0.2', '0.4', '0.6', '0.8', '1.0']\n"
     ]
    }
   ],
   "source": [
    "w_importance_range = [i * 0.2 for i in range(1, 6)]\n",
    "print('w_importance_range = ', ['{:.1f}'.format(w) for w in w_importance_range])"
   ]
  },
  {
   "cell_type": "code",
   "execution_count": 38,
   "metadata": {},
   "outputs": [],
   "source": [
    "temps = [[1.0]*num_epochs]"
   ]
  },
  {
   "cell_type": "code",
   "execution_count": 39,
   "metadata": {},
   "outputs": [],
   "source": [
    "runs = 1"
   ]
  },
  {
   "cell_type": "code",
   "execution_count": null,
   "metadata": {
    "scrolled": true,
    "tags": []
   },
   "outputs": [],
   "source": [
    "train_with_attention(model_2, cifar100_trainloader, cifar100_testloader, runs, temps=temps, \n",
    "                     w_importance_range=w_importance_range, \n",
    "                     num_classes=num_classes, total_experts=total_experts, num_epochs=num_epochs)"
   ]
  },
  {
   "cell_type": "markdown",
   "metadata": {
    "tags": []
   },
   "source": [
    "### Experiment 3: Attentive gate MoE model training with sample similarity $L_s$ regularization"
   ]
  },
  {
   "cell_type": "code",
   "execution_count": null,
   "metadata": {},
   "outputs": [],
   "source": [
    "# Model with gate and expert parameters initialized to default values\n",
    "model_3 = 'cifar100_with_attn_reg'"
   ]
  },
  {
   "cell_type": "code",
   "execution_count": null,
   "metadata": {},
   "outputs": [],
   "source": [
    "total_experts = 20"
   ]
  },
  {
   "cell_type": "code",
   "execution_count": null,
   "metadata": {},
   "outputs": [],
   "source": [
    "num_epochs = 40"
   ]
  },
  {
   "cell_type": "code",
   "execution_count": 42,
   "metadata": {
    "tags": []
   },
   "outputs": [
    {
     "name": "stdout",
     "output_type": "stream",
     "text": [
      "w_sample_sim_same_range =  [1e-05, 0.0001, 0.001]\n",
      "w_sample_sim_diff_range =  [1e-07, 1e-06, 1e-05, 0.0001, 0.001, 0.01, 0.1]\n"
     ]
    }
   ],
   "source": [
    "w_sample_sim_same_range = [1e-5,1e-4,1e-3]\n",
    "w_sample_sim_diff_range = [1e-7, 1e-6, 1e-5,1e-4,1e-3,1e-2,1e-1]\n",
    "print('w_sample_sim_same_range = ', w_sample_sim_same_range)\n",
    "print('w_sample_sim_diff_range = ', w_sample_sim_diff_range)"
   ]
  },
  {
   "cell_type": "code",
   "execution_count": null,
   "metadata": {},
   "outputs": [],
   "source": [
    "runs = 1"
   ]
  },
  {
   "cell_type": "code",
   "execution_count": null,
   "metadata": {
    "scrolled": true,
    "tags": []
   },
   "outputs": [],
   "source": [
    "train_with_attention(model_3, cifar100_trainloader, cifar100_testloader, runs, temps=temps, \n",
    "                     w_sample_sim_same_range=w_sample_sim_same_range, w_sample_sim_diff_range=w_sample_sim_diff_range, \n",
    "                     num_classes=num_classes, total_experts=total_experts, num_epochs=num_epochs)"
   ]
  },
  {
   "cell_type": "markdown",
   "metadata": {
    "tags": []
   },
   "source": [
    "### Experiment 4: Distilling attentive gate MoE model"
   ]
  },
  {
   "cell_type": "markdown",
   "metadata": {
    "tags": []
   },
   "source": [
    "#### Distilling attentive gate MoE model with $L_{importance}$ regularization"
   ]
  },
  {
   "cell_type": "code",
   "execution_count": null,
   "metadata": {
    "scrolled": true,
    "tags": []
   },
   "outputs": [],
   "source": [
    "m = 'cifar100_with_attn_reg'\n",
    "\n",
    "total_experts = 20\n",
    "num_classes = 100\n",
    "num_epochs = 40\n",
    "\n",
    "w_importance_range = [i * 0.2 for i in range(1, 6)]\n",
    "print('w_importance_range = ', ['{:.1f}'.format(w) for w in w_importance_range])\n",
    "\n",
    "train_from_model(m, num_epochs, num_classes, total_experts, w_importance_range=w_importance_range, \n",
    "                 trainloader=cifar100_trainloader, testloader=cifar100_testloader)"
   ]
  },
  {
   "cell_type": "markdown",
   "metadata": {},
   "source": [
    "#### Distilling attentive gate MoE model with $L_{s}$ regularization"
   ]
  },
  {
   "cell_type": "code",
   "execution_count": null,
   "metadata": {
    "scrolled": true,
    "tags": []
   },
   "outputs": [],
   "source": [
    "m = 'cifar100_with_attn_reg'\n",
    "\n",
    "total_experts = 20\n",
    "num_classes = 100\n",
    "num_epochs = 40\n",
    "\n",
    "w_sample_sim_same_range = [1e-5,1e-4,1e-3]\n",
    "w_sample_sim_diff_range = [1e-7,1e-6,1e-5,1e-4,1e-3,1e-2,1e-1]\n",
    "print('w_sample_sim_same_range = ', w_sample_sim_same_range)\n",
    "print('w_sample_sim_diff_range = ', w_sample_sim_diff_range)\n",
    "\n",
    "train_from_model(m, num_epochs, num_classes, total_experts,\n",
    "                 w_sample_sim_same_range=w_sample_sim_same_range,\n",
    "                 w_sample_sim_diff_range=w_sample_sim_diff_range,\n",
    "                 trainloader=cifar100_trainloader, testloader=cifar100_testloader)"
   ]
  },
  {
   "cell_type": "markdown",
   "metadata": {},
   "source": [
    "## Results"
   ]
  },
  {
   "cell_type": "markdown",
   "metadata": {},
   "source": [
    "### Collect the train error, test error, mutual information $I(E;Y)$, sample entropy $H_s$ and expert usage entropy $H_u$ for all the models trained with CIFAR-100 dataset. Store the reuslts in the '../results/cifar100_results.csv' file."
   ]
  },
  {
   "cell_type": "code",
   "execution_count": 20,
   "metadata": {},
   "outputs": [],
   "source": [
    "pretrained_model_path = '../models'"
   ]
  },
  {
   "cell_type": "code",
   "execution_count": 21,
   "metadata": {},
   "outputs": [],
   "source": [
    "results_file = 'cifar100_results.csv'"
   ]
  },
  {
   "cell_type": "code",
   "execution_count": 22,
   "metadata": {},
   "outputs": [],
   "source": [
    "import csv\n",
    "from helper import moe_models\n",
    "\n",
    "def collect_results(m, temps=[1.0], w_importance_range=[0.0], \n",
    "                    w_sample_sim_same_range=[0.0], w_sample_sim_diff_range=[0.0],\n",
    "                    total_experts=5, num_classes=10, num_epochs=20, \n",
    "                    testloader=None, model_path=None, results_path=None, filename = results_file):\n",
    "    \n",
    "    filename = os.path.join(results_path, filename)\n",
    "    \n",
    "    if os.path.exists(filename):\n",
    "        p = 'a'\n",
    "    else:\n",
    "        p = 'w'\n",
    "        \n",
    "    header = ['filename', 'train error', 'test error','mutual information', 'sample entropy', 'experts usage']\n",
    "    \n",
    "    with open(filename, p) as f:\n",
    "                \n",
    "        writer = csv.writer(f)        \n",
    "        \n",
    "        if p == 'w':            \n",
    "            writer.writerow(header)\n",
    "        \n",
    "        for w_importance, w_sample_sim_same, w_sample_sim_diff in product(w_importance_range, w_sample_sim_same_range, w_sample_sim_diff_range):\n",
    "            plot_file = generate_plot_file(m, w_importance=w_importance, w_sample_sim_same=w_sample_sim_same, w_sample_sim_diff=w_sample_sim_diff, \n",
    "                                           specific=str(num_classes)+'_'+str(total_experts)+'_models.pt')\n",
    "\n",
    "            models = torch.load(open(os.path.join(model_path, plot_file),'rb'), map_location=device)\n",
    "            for _ in range(len(models)):\n",
    "                mod = models.pop()\n",
    "                data = [plot_file]\n",
    "                # model\n",
    "                model = mod['moe_expectation_model']['experts'][total_experts]['model']\n",
    "                # history\n",
    "                history = mod['moe_expectation_model']['experts'][total_experts]['history']\n",
    "                # train error\n",
    "                data.append(1-history['accuracy'][-1].item())\n",
    "                running_test_accuracy = 0.0\n",
    "                running_entropy = 0.0\n",
    "                num_batches = 0\n",
    "                ey =  torch.zeros((num_classes, total_experts)).to(device)\n",
    "                for test_inputs, test_labels in testloader:\n",
    "                    test_inputs, test_labels = test_inputs.to(device, non_blocking=True), test_labels.to(device, non_blocking=True)                \n",
    "                    outputs = model(test_inputs)\n",
    "                    running_test_accuracy += accuracy(outputs, test_labels)\n",
    "                    \n",
    "                    selected_experts = torch.argmax(model.gate_outputs, dim=1)\n",
    "                    y = test_labels\n",
    "                    e = selected_experts\n",
    "                    for j in range(y.shape[0]):\n",
    "                        ey[int(torch.argmax(model.expert_outputs[j,e[j],:])), int(e[j])] += 1\n",
    "\n",
    "                    running_entropy += moe_models.entropy(model.gate_outputs)\n",
    "                    \n",
    "                    num_batches+=1\n",
    " \n",
    "                mutual_EY,_,_,_ = moe_models.mutual_information(ey.detach())\n",
    "    \n",
    "                test_error = 1-(running_test_accuracy/num_batches)\n",
    "                data.append(test_error.item())\n",
    "                data.append(mutual_EY.item())\n",
    "                \n",
    "                data.append(running_entropy.item()/num_batches)  \n",
    "                gate_probabilities_sum = torch.mean(model.gate_outputs, dim=0)            \n",
    "                data.append(entropy(gate_probabilities_sum).item())\n",
    "                \n",
    "                writer.writerow(data)\n",
    "            \n",
    "            "
   ]
  },
  {
   "cell_type": "code",
   "execution_count": 33,
   "metadata": {},
   "outputs": [],
   "source": [
    "total_experts = 20\n",
    "num_classes = 100\n",
    "num_epochs = 40"
   ]
  },
  {
   "cell_type": "code",
   "execution_count": 411,
   "metadata": {},
   "outputs": [],
   "source": [
    "m = 'cifar100_without_reg'\n",
    "collect_results(m, total_experts=total_experts, num_classes=num_classes, num_epochs=num_epochs, \n",
    "                testloader=cifar100_testloader, model_path=pretrained_model_path, results_path=results_path)"
   ]
  },
  {
   "cell_type": "code",
   "execution_count": 72,
   "metadata": {},
   "outputs": [
    {
     "name": "stdout",
     "output_type": "stream",
     "text": [
      "device cuda:0\n",
      "Files already downloaded and verified\n",
      "Files already downloaded and verified\n"
     ]
    }
   ],
   "source": [
    "m = 'cifar100_with_reg'\n",
    "w_importance_range = [i * 0.2 for i in range(1, 6)]\n",
    "collect_results(m, w_importance_range=w_importance_range,\n",
    "                total_experts=total_experts, num_classes=num_classes, num_epochs=num_epochs, \n",
    "                testloader=cifar100_testloader, model_path=pretrained_model_path, results_path=results_path)"
   ]
  },
  {
   "cell_type": "code",
   "execution_count": 32,
   "metadata": {},
   "outputs": [],
   "source": [
    "m = 'cifar100_with_reg'\n",
    "w_sample_sim_same_range = [1e-5,1e-4,1e-3]\n",
    "w_sample_sim_diff_range = [1e-7, 1e-6, 1e-5,1e-4,1e-3,1e-2,1e-1]\n",
    "collect_results(m, w_sample_sim_same_range=w_sample_sim_same_range, w_sample_sim_diff_range=w_sample_sim_diff_range,\n",
    "                total_experts=total_experts, num_classes=num_classes, num_epochs=num_epochs, \n",
    "                testloader=cifar100_testloader, model_path=pretrained_model_path, results_path=results_path)"
   ]
  },
  {
   "cell_type": "code",
   "execution_count": 412,
   "metadata": {},
   "outputs": [],
   "source": [
    "m = 'cifar100_with_attention'\n",
    "collect_results(m, total_experts=total_experts, num_classes=num_classes, num_epochs=num_epochs, \n",
    "                testloader=cifar100_testloader, model_path=pretrained_model_path, results_path=results_path)"
   ]
  },
  {
   "cell_type": "code",
   "execution_count": 30,
   "metadata": {},
   "outputs": [],
   "source": [
    "m = 'cifar100_with_attn_reg'\n",
    "w_importance_range = [i * 0.2 for i in range(1, 6)]\n",
    "collect_results(m, w_importance_range=w_importance_range,\n",
    "                total_experts=total_experts, num_classes=num_classes, num_epochs=num_epochs, \n",
    "                testloader=cifar100_testloader, model_path=pretrained_model_path, results_path=results_path)"
   ]
  },
  {
   "cell_type": "code",
   "execution_count": 31,
   "metadata": {},
   "outputs": [
    {
     "name": "stdout",
     "output_type": "stream",
     "text": [
      "device cuda:0\n"
     ]
    }
   ],
   "source": [
    "m = 'cifar100_with_attn_reg'\n",
    "w_sample_sim_same_range = [1e-5,1e-4,1e-3]\n",
    "w_sample_sim_diff_range = [1e-7, 1e-6, 1e-5,1e-4,1e-3,1e-2,1e-1]\n",
    "collect_results(m, w_sample_sim_same_range=w_sample_sim_same_range, w_sample_sim_diff_range=w_sample_sim_diff_range,\n",
    "                total_experts=total_experts, num_classes=num_classes, num_epochs=num_epochs, \n",
    "                testloader=cifar100_testloader, model_path=pretrained_model_path, results_path=results_path)"
   ]
  },
  {
   "cell_type": "code",
   "execution_count": 60,
   "metadata": {},
   "outputs": [],
   "source": [
    "m = 'new_cifar100_with_attn_reg'\n",
    "w_importance_range = [i * 0.2 for i in range(1, 6)]\n",
    "collect_results(m, w_importance_range=w_importance_range,\n",
    "                total_experts=total_experts, num_classes=num_classes, num_epochs=num_epochs, \n",
    "                testloader=cifar100_testloader, model_path=pretrained_model_path, results_path=results_path)"
   ]
  },
  {
   "cell_type": "code",
   "execution_count": 49,
   "metadata": {},
   "outputs": [],
   "source": [
    "m = 'new_cifar100_with_attn_reg'\n",
    "w_sample_sim_same_range = [1e-5,1e-4,1e-3]\n",
    "w_sample_sim_diff_range = [1e-7,1e-6, 1e-5,1e-4,1e-3,1e-2,1e-1]\n",
    "collect_results(m, w_sample_sim_same_range=w_sample_sim_same_range, w_sample_sim_diff_range=w_sample_sim_diff_range,\n",
    "                total_experts=total_experts, num_classes=num_classes, num_epochs=num_epochs, \n",
    "                testloader=cifar100_testloader, model_path=pretrained_model_path, results_path=results_path)"
   ]
  },
  {
   "cell_type": "markdown",
   "metadata": {},
   "source": [
    "### Final results"
   ]
  },
  {
   "cell_type": "markdown",
   "metadata": {},
   "source": [
    "#### These are the final performance results, reported in the paper, on the test data for the model with the minimum training error for each category of MoE model and training method."
   ]
  },
  {
   "cell_type": "code",
   "execution_count": null,
   "metadata": {},
   "outputs": [],
   "source": [
    "import pandas as pd\n",
    "filename = os.path.join(results_path, results_file)\n",
    "data = pd.read_csv(filename)"
   ]
  },
  {
   "cell_type": "code",
   "execution_count": 24,
   "metadata": {},
   "outputs": [],
   "source": [
    "final_results_filename = os.path.join(results_path,'cifar100_final_results.csv')"
   ]
  },
  {
   "cell_type": "code",
   "execution_count": 36,
   "metadata": {},
   "outputs": [],
   "source": [
    "models = ['cifar100_single_model', 'cifar100_without_reg', 'cifar100_with_reg_importance', \n",
    "          'cifar100_with_reg_sample', 'cifar100_with_attention', 'cifar100_with_attn_reg_importance',\n",
    "          'cifar100_with_attn_reg_sample', 'new_cifar100_with_attn_reg_importance',\n",
    "          'new_cifar100_with_attn_reg_sample'] \n",
    "\n",
    "header = True\n",
    "for i, m in enumerate(models):\n",
    "    model_data = data[data['filename'].str.startswith(m)]\n",
    "    if model_data.empty:\n",
    "        continue\n",
    "    if i:\n",
    "        header = False\n",
    "    row = data.loc[[data[data['filename'].str.startswith(m)]['train error'].idxmin()]]\n",
    "    std = '{:.3f}'.format(data[data['filename'].str.startswith(m)]['test error'].std())\n",
    "    row['val error std'] = std\n",
    "    row.to_csv(final_results_filename,mode='a',header=header, index=False, float_format='%.3f')"
   ]
  },
  {
   "cell_type": "code",
   "execution_count": 25,
   "metadata": {},
   "outputs": [
    {
     "data": {
      "text/html": [
       "<div>\n",
       "<style scoped>\n",
       "    .dataframe tbody tr th:only-of-type {\n",
       "        vertical-align: middle;\n",
       "    }\n",
       "\n",
       "    .dataframe tbody tr th {\n",
       "        vertical-align: top;\n",
       "    }\n",
       "\n",
       "    .dataframe thead th {\n",
       "        text-align: right;\n",
       "    }\n",
       "</style>\n",
       "<table border=\"1\" class=\"dataframe\">\n",
       "  <thead>\n",
       "    <tr style=\"text-align: right;\">\n",
       "      <th></th>\n",
       "      <th>filename</th>\n",
       "      <th>train error</th>\n",
       "      <th>test error</th>\n",
       "      <th>mutual information</th>\n",
       "      <th>sample entropy</th>\n",
       "      <th>experts usage</th>\n",
       "      <th>val error std</th>\n",
       "    </tr>\n",
       "  </thead>\n",
       "  <tbody>\n",
       "    <tr>\n",
       "      <th>0</th>\n",
       "      <td>cifar100_single_model_2</td>\n",
       "      <td>0.565</td>\n",
       "      <td>0.575</td>\n",
       "      <td>NA</td>\n",
       "      <td>NA</td>\n",
       "      <td>NA</td>\n",
       "      <td>0.006</td>\n",
       "    </tr>\n",
       "    <tr>\n",
       "      <th>1</th>\n",
       "      <td>cifar100_without_reg_100_20_models.pt</td>\n",
       "      <td>0.398</td>\n",
       "      <td>0.460</td>\n",
       "      <td>0.967</td>\n",
       "      <td>0.306</td>\n",
       "      <td>1.023</td>\n",
       "      <td>0.010</td>\n",
       "    </tr>\n",
       "    <tr>\n",
       "      <th>2</th>\n",
       "      <td>cifar100_with_reg_importance_0.2_100_20_models.pt</td>\n",
       "      <td>0.408</td>\n",
       "      <td>0.483</td>\n",
       "      <td>4.177</td>\n",
       "      <td>1.315</td>\n",
       "      <td>3.981</td>\n",
       "      <td>0.007</td>\n",
       "    </tr>\n",
       "    <tr>\n",
       "      <th>3</th>\n",
       "      <td>cifar100_with_reg_sample_sim_same_1e-05_sample...</td>\n",
       "      <td>0.393</td>\n",
       "      <td>0.457</td>\n",
       "      <td>1.424</td>\n",
       "      <td>0.381</td>\n",
       "      <td>1.279</td>\n",
       "      <td>0.012</td>\n",
       "    </tr>\n",
       "    <tr>\n",
       "      <th>4</th>\n",
       "      <td>cifar100_with_attention_100_20_models.pt</td>\n",
       "      <td>0.254</td>\n",
       "      <td>0.450</td>\n",
       "      <td>1.792</td>\n",
       "      <td>0.463</td>\n",
       "      <td>2.178</td>\n",
       "      <td>0.006</td>\n",
       "    </tr>\n",
       "    <tr>\n",
       "      <th>5</th>\n",
       "      <td>cifar100_with_attn_reg_importance_0.2_100_20_m...</td>\n",
       "      <td>0.254</td>\n",
       "      <td>0.447</td>\n",
       "      <td>3.684</td>\n",
       "      <td>1.036</td>\n",
       "      <td>4.141</td>\n",
       "      <td>0.005</td>\n",
       "    </tr>\n",
       "    <tr>\n",
       "      <th>6</th>\n",
       "      <td>cifar100_with_attn_reg_sample_sim_same_0.0001_...</td>\n",
       "      <td>0.238</td>\n",
       "      <td>0.451</td>\n",
       "      <td>3.117</td>\n",
       "      <td>0.77</td>\n",
       "      <td>3.357</td>\n",
       "      <td>0.016</td>\n",
       "    </tr>\n",
       "    <tr>\n",
       "      <th>7</th>\n",
       "      <td>new_cifar100_with_attn_reg_importance_0.2_100_...</td>\n",
       "      <td>0.399</td>\n",
       "      <td>0.531</td>\n",
       "      <td>3.179</td>\n",
       "      <td>1.75</td>\n",
       "      <td>3.843</td>\n",
       "      <td>0.131</td>\n",
       "    </tr>\n",
       "    <tr>\n",
       "      <th>8</th>\n",
       "      <td>new_cifar100_with_attn_reg_sample_sim_same_0.0...</td>\n",
       "      <td>0.150</td>\n",
       "      <td>0.482</td>\n",
       "      <td>1.605</td>\n",
       "      <td>0.718</td>\n",
       "      <td>2.541</td>\n",
       "      <td>0.065</td>\n",
       "    </tr>\n",
       "  </tbody>\n",
       "</table>\n",
       "</div>"
      ],
      "text/plain": [
       "                                            filename  train error  test error  \\\n",
       "0                            cifar100_single_model_2        0.565       0.575   \n",
       "1              cifar100_without_reg_100_20_models.pt        0.398       0.460   \n",
       "2  cifar100_with_reg_importance_0.2_100_20_models.pt        0.408       0.483   \n",
       "3  cifar100_with_reg_sample_sim_same_1e-05_sample...        0.393       0.457   \n",
       "4           cifar100_with_attention_100_20_models.pt        0.254       0.450   \n",
       "5  cifar100_with_attn_reg_importance_0.2_100_20_m...        0.254       0.447   \n",
       "6  cifar100_with_attn_reg_sample_sim_same_0.0001_...        0.238       0.451   \n",
       "7  new_cifar100_with_attn_reg_importance_0.2_100_...        0.399       0.531   \n",
       "8  new_cifar100_with_attn_reg_sample_sim_same_0.0...        0.150       0.482   \n",
       "\n",
       "  mutual information sample entropy experts usage  val error std  \n",
       "0                 NA             NA            NA          0.006  \n",
       "1              0.967          0.306         1.023          0.010  \n",
       "2              4.177          1.315         3.981          0.007  \n",
       "3              1.424          0.381         1.279          0.012  \n",
       "4              1.792          0.463         2.178          0.006  \n",
       "5              3.684          1.036         4.141          0.005  \n",
       "6              3.117           0.77         3.357          0.016  \n",
       "7              3.179           1.75         3.843          0.131  \n",
       "8              1.605          0.718         2.541          0.065  "
      ]
     },
     "execution_count": 25,
     "metadata": {},
     "output_type": "execute_result"
    }
   ],
   "source": [
    "data = pd.read_csv(final_results_filename)\n",
    "data.fillna('NA', inplace=True)\n",
    "data"
   ]
  },
  {
   "cell_type": "code",
   "execution_count": null,
   "metadata": {},
   "outputs": [],
   "source": []
  }
 ],
 "metadata": {
  "@webio": {
   "lastCommId": null,
   "lastKernelId": null
  },
  "kernelspec": {
   "display_name": "mnn",
   "language": "python",
   "name": "mnn"
  },
  "language_info": {
   "codemirror_mode": {
    "name": "ipython",
    "version": 3
   },
   "file_extension": ".py",
   "mimetype": "text/x-python",
   "name": "python",
   "nbconvert_exporter": "python",
   "pygments_lexer": "ipython3",
   "version": "3.9.12"
  },
  "latex_envs": {
   "LaTeX_envs_menu_present": true,
   "autoclose": false,
   "autocomplete": true,
   "bibliofile": "biblio.bib",
   "cite_by": "apalike",
   "current_citInitial": 1,
   "eqLabelWithNumbers": true,
   "eqNumInitial": 1,
   "hotkeys": {
    "equation": "Ctrl-E",
    "itemize": "Ctrl-I"
   },
   "labels_anchors": false,
   "latex_user_defs": false,
   "report_style_numbering": false,
   "user_envs_cfg": false
  }
 },
 "nbformat": 4,
 "nbformat_minor": 4
}
