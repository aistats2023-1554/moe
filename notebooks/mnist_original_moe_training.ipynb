{
 "cells": [
  {
   "cell_type": "markdown",
   "metadata": {},
   "source": [
    "# Experiments with MNIST Dataset and Original MoE"
   ]
  },
  {
   "cell_type": "markdown",
   "metadata": {},
   "source": [
    "The experiments in this notebook include training the original MoE models as follows:\n",
    "\n",
    "1. original MoE without regularization.\n",
    "2. original MoE with $L_{importance}$ regularization.\n",
    "3. original MoE with $L_s$ regularization.\n",
    "4. train a single model.\n",
    "5. original MoE with $L_{importance}$ regularization with 10 and 15 experts.\n",
    "6. original MoE with $L_s$ regularization with 10 and 15 experts."
   ]
  },
  {
   "cell_type": "code",
   "execution_count": 1,
   "metadata": {},
   "outputs": [],
   "source": [
    "import time\n",
    "import numpy as np\n",
    "import matplotlib.pyplot as plt\n",
    "import matplotlib.cm as cm  # colormaps\n",
    "\n",
    "%matplotlib inline"
   ]
  },
  {
   "cell_type": "code",
   "execution_count": 2,
   "metadata": {},
   "outputs": [],
   "source": [
    "import seaborn as sns\n",
    "import numpy as np\n",
    "from statistics import mean\n",
    "from math import ceil, sin, cos, radians\n",
    "from collections import OrderedDict\n",
    "import os\n",
    "import pandas as pd\n",
    "from pprint import pprint\n",
    "from copy import deepcopy\n",
    "from itertools import product"
   ]
  },
  {
   "cell_type": "code",
   "execution_count": 3,
   "metadata": {},
   "outputs": [],
   "source": [
    "import torch\n",
    "import torchvision\n",
    "import torch.nn as nn\n",
    "import torch.nn.functional as F\n",
    "import torch.optim as optim\n",
    "from torch.utils.data import TensorDataset\n",
    "import torchvision.transforms.functional as TF"
   ]
  },
  {
   "cell_type": "code",
   "execution_count": 4,
   "metadata": {},
   "outputs": [
    {
     "name": "stdout",
     "output_type": "stream",
     "text": [
      "device cuda:0\n"
     ]
    }
   ],
   "source": [
    "if torch.cuda.is_available():\n",
    "    device = torch.device(\"cuda:0\")\n",
    "    print('device', device)\n",
    "else:\n",
    "    device = torch.device(\"cpu\")\n",
    "    print('device', device)"
   ]
  },
  {
   "cell_type": "code",
   "execution_count": 5,
   "metadata": {},
   "outputs": [
    {
     "name": "stdout",
     "output_type": "stream",
     "text": [
      "device cuda:0\n",
      "device cuda:0\n",
      "device cuda:0\n",
      "device cuda:0\n"
     ]
    }
   ],
   "source": [
    "# import MoE expectation model. All experiments for this dataset are done with the expectation model as it\n",
    "# provides the best performance\n",
    "from moe_models.moe_expectation_model import moe_expectation_model\n",
    "from helper.moe_models import cross_entropy_loss\n",
    "from helper.visualise_results import *"
   ]
  },
  {
   "cell_type": "markdown",
   "metadata": {},
   "source": [
    "### NOTE: Pre-trained models are provided to check the results of all the experiments if you do not have the time to train all the models. "
   ]
  },
  {
   "cell_type": "markdown",
   "metadata": {},
   "source": [
    "## Load MNIST dataset"
   ]
  },
  {
   "cell_type": "code",
   "execution_count": 6,
   "metadata": {},
   "outputs": [],
   "source": [
    "# Paths to where the trained models, figures and results will be stored. You can change this as you see fit.\n",
    "fig_path = '../figures'\n",
    "model_path = '../models'\n",
    "results_path = '../results'\n",
    "pre_trained_model_path = '../models/pre_trained'\n",
    "\n",
    "if not os.path.exists(fig_path):\n",
    "    os.mkdir(fig_path)\n",
    "if not os.path.exists(model_path):\n",
    "    os.mkdir(model_path)\n",
    "if not os.path.exists(results_path):\n",
    "    os.mkdir(results_path)    "
   ]
  },
  {
   "cell_type": "code",
   "execution_count": 7,
   "metadata": {},
   "outputs": [],
   "source": [
    "import torchvision.transforms as transforms\n",
    "\n",
    "# transforms: Convert PIL image to tensors and normalize\n",
    "mnist_transform = transforms.Compose(\n",
    "    [transforms.ToTensor(),\n",
    "    transforms.Normalize((0.1307,), (0.3081,))]) #mean and standard deviation computed from the dataset"
   ]
  },
  {
   "cell_type": "code",
   "execution_count": 8,
   "metadata": {},
   "outputs": [],
   "source": [
    "# Complete train and test data\n",
    "trainsize = 60000\n",
    "testsize = 10000"
   ]
  },
  {
   "cell_type": "code",
   "execution_count": 9,
   "metadata": {},
   "outputs": [],
   "source": [
    "batch_size = 512"
   ]
  },
  {
   "cell_type": "code",
   "execution_count": 10,
   "metadata": {},
   "outputs": [
    {
     "name": "stdout",
     "output_type": "stream",
     "text": [
      "Image shape torch.Size([1, 28, 28])\n",
      "Train samples  60000\n",
      "Test samples  10000\n"
     ]
    }
   ],
   "source": [
    "# Load data as train and test\n",
    "trainset = torchvision.datasets.MNIST('./data',\n",
    "    download=True,\n",
    "    train=True,\n",
    "    transform=mnist_transform,\n",
    "    target_transform = torch.tensor,                                 \n",
    "    )\n",
    "testset = torchvision.datasets.MNIST('./data',\n",
    "    download=True,\n",
    "    train=False,\n",
    "    transform=mnist_transform,\n",
    "    target_transform = torch.tensor,)\n",
    "\n",
    "# dataloaders\n",
    "trainloader = torch.utils.data.DataLoader(torch.utils.data.Subset(trainset, range(trainsize)), \n",
    "                                          batch_size=batch_size,\n",
    "                                          shuffle=True)\n",
    "\n",
    "testloader = torch.utils.data.DataLoader(torch.utils.data.Subset(testset, range(testsize)),\n",
    "                                         batch_size=testsize,\n",
    "                                         shuffle=False)\n",
    "num_classes = 10\n",
    "\n",
    "image, label = trainset.__getitem__(0)\n",
    "print('Image shape', image.shape)\n",
    "print('Train samples ', len(trainset))\n",
    "print('Test samples ', len(testset))\n"
   ]
  },
  {
   "cell_type": "code",
   "execution_count": 11,
   "metadata": {
    "scrolled": true,
    "tags": []
   },
   "outputs": [
    {
     "name": "stdout",
     "output_type": "stream",
     "text": [
      "Data samples\n"
     ]
    },
    {
     "data": {
      "image/png": "[encoded data removed]",
      "text/plain": [
       "<Figure size 432x288 with 1 Axes>"
      ]
     },
     "metadata": {
      "needs_background": "light"
     },
     "output_type": "display_data"
    }
   ],
   "source": [
    "# create grid of images\n",
    "dataiter = iter(trainloader)\n",
    "images, labels = dataiter.next()\n",
    "img_grid = torchvision.utils.make_grid(images[0:32])\n",
    "\n",
    "print('Data samples')\n",
    "# show images\n",
    "imshow(img_grid, one_channel=True)\n"
   ]
  },
  {
   "cell_type": "markdown",
   "metadata": {},
   "source": [
    "## Define expert and gate networks"
   ]
  },
  {
   "cell_type": "code",
   "execution_count": 12,
   "metadata": {},
   "outputs": [],
   "source": [
    "# Convolutional network with one convultional layer and 2 hidden layers with ReLU activation\n",
    "class expert_layers(nn.Module):\n",
    "    def __init__(self, num_classes, channels=1):\n",
    "        super(expert_layers, self).__init__()\n",
    "        self.conv1 = nn.Conv2d(in_channels=1, out_channels=channels, kernel_size=3)\n",
    "        self.fc1 = nn.Linear(in_features=1*13*13, out_features=5) # this is a pure linear transform\n",
    "        self.fc2 = nn.Linear(in_features=5, out_features=32) # this is a pure linear transform\n",
    "        \n",
    "        self.out = nn.Linear(in_features=32, out_features=num_classes)\n",
    "        \n",
    "        self.num_classes = num_classes\n",
    "        \n",
    "    def forward(self, t):\n",
    "        t = self.conv1(t)\n",
    "        t = F.relu(t)\n",
    "        t = F.max_pool2d(t, kernel_size=2, stride=2)\n",
    "        # fc1\n",
    "        t = t.reshape(-1, 1*13*13)\n",
    "        t = self.fc1(t)\n",
    "        t = F.relu(t)\n",
    "\n",
    "        # fc2\n",
    "        t = self.fc2(t)\n",
    "        t = F.relu(t)\n",
    "\n",
    "        # output\n",
    "        t = F.softmax(self.out(t), dim=1)\n",
    "                \n",
    "        return t"
   ]
  },
  {
   "cell_type": "code",
   "execution_count": 13,
   "metadata": {},
   "outputs": [],
   "source": [
    "# Convolutional network with one convultional layer and 2 hidden layers with ReLU activation\n",
    "class gate_layers(nn.Module):\n",
    "    def __init__(self, num_experts):\n",
    "        super(gate_layers, self).__init__()\n",
    "        # define layers\n",
    "        self.conv1 = nn.Conv2d(in_channels=1, out_channels=1, kernel_size=3)\n",
    "\n",
    "        self.fc1 = nn.Linear(in_features=1*13*13, out_features=128)\n",
    "        self.fc2 = nn.Linear(in_features=128, out_features=32)\n",
    "        self.out = nn.Linear(in_features=32, out_features=num_experts)\n",
    "        self.num_experts = num_experts\n",
    "\n",
    "    def forward(self, t, T=1.0, y=None):\n",
    "        # conv 1\n",
    "        t = self.conv1(t)\n",
    "        t = F.relu(t)\n",
    "        t = F.max_pool2d(t, kernel_size=2, stride=2)\n",
    "        # fc1\n",
    "        t = t.reshape(-1, 1*13*13)\n",
    "            \n",
    "        t = self.fc1(t)\n",
    "        t = F.relu(t)\n",
    "\n",
    "        # fc2\n",
    "        t = self.fc2(t)\n",
    "        t = F.relu(t)\n",
    "\n",
    "        # output\n",
    "        t = self.out(t)\n",
    "        t = F.softmax(t/T, dim=1) # The temperature parameter is 1 for all the experiments\n",
    "        return t\n"
   ]
  },
  {
   "cell_type": "code",
   "execution_count": 14,
   "metadata": {},
   "outputs": [],
   "source": [
    "# create a set of experts\n",
    "def experts(num_experts, num_classes, expert_layers_type=expert_layers):\n",
    "    models = []\n",
    "    for i in range(num_experts):\n",
    "        models.append(expert_layers_type(num_classes))\n",
    "    return nn.ModuleList(models)"
   ]
  },
  {
   "cell_type": "code",
   "execution_count": 15,
   "metadata": {
    "tags": []
   },
   "outputs": [],
   "source": [
    "# Convolutional network with one convultional layer and 2 hidden layers with ReLU activation. The single model has the same\n",
    "# architecture as an expert\n",
    "class single_model(nn.Module):\n",
    "    def __init__(self, num_classes=10):\n",
    "        super(single_model, self).__init__()\n",
    "        self.conv1 = nn.Conv2d(in_channels=1, out_channels=1, kernel_size=3)\n",
    "        self.fc1 = nn.Linear(in_features=1*13*13, out_features=5) # this is a pure linear transform\n",
    "        self.fc2 = nn.Linear(in_features=5, out_features=32) # this is a pure linear transform\n",
    "        \n",
    "        self.out = nn.Linear(in_features=32, out_features=num_classes)\n",
    "        \n",
    "        self.num_classes = num_classes\n",
    "        \n",
    "    def forward(self, t):\n",
    "        # conv 1\n",
    "        t = self.conv1(t)\n",
    "        \n",
    "        t = F.relu(t)\n",
    "        t = F.max_pool2d(t, kernel_size=2, stride=2)\n",
    "        # fc1\n",
    "        t = t.reshape(-1, 1*13*13)\n",
    "        t = self.fc1(t)\n",
    "        t = F.relu(t)\n",
    "\n",
    "        # fc2\n",
    "        t = self.fc2(t)\n",
    "        t = F.relu(t)\n",
    "\n",
    "        # output\n",
    "        t = F.softmax(self.out(t), dim=1)\n",
    "        \n",
    "        return t"
   ]
  },
  {
   "cell_type": "markdown",
   "metadata": {},
   "source": [
    "## Initialize configurations and helper functions"
   ]
  },
  {
   "cell_type": "code",
   "execution_count": 16,
   "metadata": {},
   "outputs": [],
   "source": [
    "# Compute accuracy of the model\n",
    "def accuracy(out, yb, mean=True):\n",
    "    preds = torch.argmax(out, dim=1).to(device, non_blocking=True)\n",
    "    if mean:\n",
    "        return (preds == yb).float().mean()\n",
    "    else:\n",
    "        return (preds == yb).float()"
   ]
  },
  {
   "cell_type": "markdown",
   "metadata": {},
   "source": [
    "## Functions to train models"
   ]
  },
  {
   "cell_type": "markdown",
   "metadata": {},
   "source": [
    "### Function to train original model with and without regularization\n",
    "\n",
    "* w_importance_range is the range of values for the $w_{importance}$ hyperparameter of the $L_{importance}$ regularization.\n",
    "* w_sample_sim_same_range is the range of values for $\\beta_s$ hyperparameter of the $L_s$ regularization.\n",
    "* w_sample_sim_diff_range is the range of values for $\\beta_d$ hyperparameter of the $L_s$ regularization."
   ]
  },
  {
   "cell_type": "code",
   "execution_count": 17,
   "metadata": {},
   "outputs": [],
   "source": [
    "def train_original_model(model_1, trainloader, testloader, runs, temps=[[1.0]*20], \n",
    "                         w_importance_range=[0.0], w_sample_sim_same_range=[0.0], \n",
    "                         w_sample_sim_diff_range=[0.0],\n",
    "                         num_classes=10, total_experts=5, num_epochs=20):\n",
    "\n",
    "    for T, w_importance, w_sample_sim_same, w_sample_sim_diff in product(temps, w_importance_range, \n",
    "                                                                                      w_sample_sim_same_range,  \n",
    "                                                                                      w_sample_sim_diff_range):\n",
    "        \n",
    "        print('w_importance','{:.1f}'.format(w_importance))\n",
    "        if w_sample_sim_same < 1:\n",
    "            print('w_sample_sim_same',str(w_sample_sim_same))\n",
    "        else:\n",
    "            print('w_sample_sim_same','{:.1f}'.format(w_sample_sim_same))\n",
    "        \n",
    "        if w_sample_sim_diff < 1:\n",
    "            print('w_sample_sim_diff',str(w_sample_sim_diff))\n",
    "        else:\n",
    "            print('w_sample_sim_diff','{:.1f}'.format(w_sample_sim_diff))\n",
    " \n",
    "        n_run_models_1 = []\n",
    "        for run in range(1,runs+1):\n",
    "\n",
    "            print('Run:', run), \n",
    "\n",
    "            models = {'moe_expectation_model':{'model':moe_expectation_model,'loss':cross_entropy_loss(),\n",
    "                                               'experts':{}},}\n",
    "            for key, val in models.items():\n",
    "\n",
    "                expert_models = experts(total_experts, num_classes).to(device)\n",
    "\n",
    "                gate_model = gate_layers(total_experts).to(device)\n",
    "\n",
    "                moe_model = val['model'](total_experts, num_classes,\n",
    "                                         experts=expert_models, gate=gate_model).to(device)\n",
    "                \n",
    "                optimizer_moe = optim.Adam(moe_model.parameters(), lr=0.001, amsgrad=False)\n",
    "\n",
    "                hist = moe_model.train(trainloader, testloader,  val['loss'], optimizer_moe = optimizer_moe, T = T, \n",
    "                                       w_importance=w_importance, w_sample_sim_same = w_sample_sim_same, \n",
    "                                       w_sample_sim_diff = w_sample_sim_diff, \n",
    "                                       accuracy=accuracy, epochs=num_epochs)\n",
    "                val['experts'][total_experts] = {'model':moe_model, 'history':hist}\n",
    "            \n",
    "            # Save all the trained models\n",
    "            plot_file = generate_plot_file(model_1, T[0], w_importance=w_importance, w_sample_sim_same=w_sample_sim_same,w_sample_sim_diff=w_sample_sim_diff,\n",
    "                                       specific=str(num_classes)+'_'+str(total_experts)+'_models.pt')\n",
    "\n",
    "            if  os.path.exists(os.path.join(model_path, plot_file)):\n",
    "                n_run_models_1 = torch.load(open(os.path.join(model_path, plot_file),'rb'))\n",
    "            n_run_models_1.append(models)\n",
    "            torch.save(n_run_models_1,open(os.path.join(model_path, plot_file),'wb'))\n",
    "            n_run_models_1 = []\n"
   ]
  },
  {
   "cell_type": "markdown",
   "metadata": {},
   "source": [
    "### Function to train the single model"
   ]
  },
  {
   "cell_type": "code",
   "execution_count": 18,
   "metadata": {
    "tags": []
   },
   "outputs": [],
   "source": [
    "def train_single_model(model_name, trainloader, testloader, num_classes, num_epochs, runs):\n",
    "    \n",
    "    loss_criterion = cross_entropy_loss()\n",
    "    \n",
    "    n_runs = {'models':[], 'history':[]}\n",
    "    \n",
    "    for run in range(1, runs+1):\n",
    "        \n",
    "        print('Run', run)\n",
    "        \n",
    "        model = single_model(num_classes).to(device)\n",
    "        history = {'loss':[], 'accuracy':[], 'val_accuracy':[]}\n",
    "        optimizer = optim.Adam(model.parameters(), lr=0.001, amsgrad=False)\n",
    "        \n",
    "        for epoch in range(num_epochs):\n",
    "            running_loss = 0.0\n",
    "            train_running_accuracy = 0.0\n",
    "            num_batches = 0\n",
    "\n",
    "            for inputs, labels in trainloader:\n",
    "                inputs, labels = inputs.to(device, non_blocking=True), labels.to(device, non_blocking=True)\n",
    "                outputs = model(inputs)\n",
    "\n",
    "                optimizer.zero_grad()\n",
    "                loss = loss_criterion(outputs, None, None, labels)\n",
    "\n",
    "                loss.backward()\n",
    "\n",
    "                optimizer.step()\n",
    "\n",
    "                running_loss += loss.item()\n",
    "\n",
    "                outputs = model(inputs)\n",
    "\n",
    "                acc = accuracy(outputs, labels)\n",
    "                train_running_accuracy += acc\n",
    "\n",
    "                num_batches += 1\n",
    "\n",
    "            test_running_accuracy = 0.0\n",
    "            test_num_batches = 0\n",
    "            \n",
    "            for test_inputs, test_labels in testloader:\n",
    "                test_inputs, test_labels = test_inputs.to(device, non_blocking=True), test_labels.to(device, non_blocking=True)\n",
    "                test_outputs = model(test_inputs)              \n",
    "                test_running_accuracy += accuracy(test_outputs, test_labels)\n",
    "                test_num_batches += 1\n",
    "                \n",
    "            loss = (running_loss/num_batches)\n",
    "            train_accuracy = (train_running_accuracy/num_batches)\n",
    "            test_accuracy = (test_running_accuracy/test_num_batches)\n",
    "            \n",
    "            history['loss'].append(loss)\n",
    "            history['accuracy'].append(train_accuracy.item())\n",
    "            history['val_accuracy'].append(test_accuracy.item())\n",
    "            \n",
    "            print('epoch %d' % epoch,\n",
    "                  'training loss %.2f' % loss,\n",
    "                   ', training accuracy %.2f' % train_accuracy,\n",
    "                   ', test accuracy %.2f' % test_accuracy\n",
    "                   )\n",
    "        \n",
    "        # Save all the trained models\n",
    "        plot_file = generate_plot_file(model_name, specific=str(num_classes)+'_models.pt')\n",
    "        if  os.path.exists(os.path.join(model_path, plot_file)):\n",
    "            n_runs = torch.load(open(os.path.join(model_path, plot_file),'rb'))\n",
    "        n_runs['models'].append(model)\n",
    "        n_runs['history'].append(history)        \n",
    "        torch.save(n_runs, open(os.path.join(model_path, plot_file),'wb'))\n",
    "        \n",
    "        n_runs = {'models':[], 'history':[]}"
   ]
  },
  {
   "cell_type": "markdown",
   "metadata": {},
   "source": [
    "## Experiments"
   ]
  },
  {
   "cell_type": "markdown",
   "metadata": {
    "tags": []
   },
   "source": [
    "### Experiment 1: Original MoE model trained without gate regularization"
   ]
  },
  {
   "cell_type": "code",
   "execution_count": 71,
   "metadata": {},
   "outputs": [],
   "source": [
    "# Model with gate and expert parameters initialized to default values\n",
    "model_1 = 'mnist_without_reg_hidden_32'"
   ]
  },
  {
   "cell_type": "code",
   "execution_count": 72,
   "metadata": {},
   "outputs": [],
   "source": [
    "total_experts = 5"
   ]
  },
  {
   "cell_type": "code",
   "execution_count": 73,
   "metadata": {},
   "outputs": [],
   "source": [
    "num_epochs = 20"
   ]
  },
  {
   "cell_type": "code",
   "execution_count": 74,
   "metadata": {},
   "outputs": [],
   "source": [
    "runs = 1"
   ]
  },
  {
   "cell_type": "code",
   "execution_count": 75,
   "metadata": {
    "scrolled": true,
    "tags": []
   },
   "outputs": [
    {
     "name": "stdout",
     "output_type": "stream",
     "text": [
      "w_importance 0.0\n",
      "w_sample_sim_same 0.0\n",
      "w_sample_sim_diff 0.0\n",
      "Run: 1\n",
      "epoch 0 training loss 1.26 , training accuracy 0.65 , test accuracy 0.87\n",
      "epoch 1 training loss 0.37 , training accuracy 0.89 , test accuracy 0.91\n",
      "epoch 2 training loss 0.29 , training accuracy 0.91 , test accuracy 0.92\n",
      "epoch 3 training loss 0.26 , training accuracy 0.92 , test accuracy 0.93\n",
      "epoch 4 training loss 0.24 , training accuracy 0.93 , test accuracy 0.93\n",
      "epoch 5 training loss 0.22 , training accuracy 0.93 , test accuracy 0.94\n",
      "epoch 6 training loss 0.21 , training accuracy 0.94 , test accuracy 0.94\n",
      "epoch 7 training loss 0.20 , training accuracy 0.94 , test accuracy 0.94\n",
      "epoch 8 training loss 0.19 , training accuracy 0.94 , test accuracy 0.94\n",
      "epoch 9 training loss 0.18 , training accuracy 0.95 , test accuracy 0.95\n",
      "epoch 10 training loss 0.17 , training accuracy 0.95 , test accuracy 0.95\n",
      "epoch 11 training loss 0.16 , training accuracy 0.95 , test accuracy 0.95\n",
      "epoch 12 training loss 0.15 , training accuracy 0.96 , test accuracy 0.95\n",
      "epoch 13 training loss 0.14 , training accuracy 0.96 , test accuracy 0.95\n",
      "epoch 14 training loss 0.13 , training accuracy 0.96 , test accuracy 0.95\n",
      "epoch 15 training loss 0.13 , training accuracy 0.96 , test accuracy 0.95\n",
      "epoch 16 training loss 0.12 , training accuracy 0.97 , test accuracy 0.96\n",
      "epoch 17 training loss 0.11 , training accuracy 0.97 , test accuracy 0.95\n",
      "epoch 18 training loss 0.11 , training accuracy 0.97 , test accuracy 0.96\n",
      "epoch 19 training loss 0.10 , training accuracy 0.97 , test accuracy 0.96\n"
     ]
    }
   ],
   "source": [
    "train_oginal_model(model_1, trainloader, testloader, runs, num_classes=num_classes, total_experts=total_experts, num_epochs=num_epochs)"
   ]
  },
  {
   "cell_type": "markdown",
   "metadata": {
    "tags": []
   },
   "source": [
    "### Experiment 2: Original MoE model trained with $L_{importance}$ regularization"
   ]
  },
  {
   "cell_type": "code",
   "execution_count": 91,
   "metadata": {},
   "outputs": [],
   "source": [
    "# Model with gate and expert parameters initialized to default values\n",
    "model_2 = 'mnist_with_reg_hidden_32'"
   ]
  },
  {
   "cell_type": "code",
   "execution_count": 92,
   "metadata": {},
   "outputs": [],
   "source": [
    "total_experts = 5"
   ]
  },
  {
   "cell_type": "code",
   "execution_count": 98,
   "metadata": {},
   "outputs": [],
   "source": [
    "num_epochs = 20"
   ]
  },
  {
   "cell_type": "code",
   "execution_count": 122,
   "metadata": {
    "tags": []
   },
   "outputs": [
    {
     "name": "stdout",
     "output_type": "stream",
     "text": [
      "w_importance_range =  ['0.2', '0.4', '0.6', '0.8', '1.0']\n"
     ]
    }
   ],
   "source": [
    "w_importance_range = [i * 0.2 for i in range(1, 6)]\n",
    "print('w_importance_range = ', ['{:.1f}'.format(w) for w in w_importance_range])"
   ]
  },
  {
   "cell_type": "code",
   "execution_count": 115,
   "metadata": {},
   "outputs": [],
   "source": [
    "runs = 10"
   ]
  },
  {
   "cell_type": "code",
   "execution_count": 101,
   "metadata": {
    "scrolled": true,
    "tags": []
   },
   "outputs": [
    {
     "name": "stdout",
     "output_type": "stream",
     "text": [
      "w_importance 1.0\n",
      "w_sample_sim_same 0.0\n",
      "w_sample_sim_diff 0.0\n",
      "Run: 1\n",
      "epoch 0 training loss 1.64 , training accuracy 0.55 , test accuracy 0.85\n",
      "epoch 1 training loss 0.45 , training accuracy 0.88 , test accuracy 0.91\n",
      "epoch 2 training loss 0.30 , training accuracy 0.92 , test accuracy 0.93\n",
      "epoch 3 training loss 0.24 , training accuracy 0.93 , test accuracy 0.94\n",
      "epoch 4 training loss 0.21 , training accuracy 0.94 , test accuracy 0.94\n",
      "epoch 5 training loss 0.19 , training accuracy 0.95 , test accuracy 0.95\n",
      "epoch 6 training loss 0.17 , training accuracy 0.95 , test accuracy 0.95\n",
      "epoch 7 training loss 0.16 , training accuracy 0.96 , test accuracy 0.95\n",
      "epoch 8 training loss 0.15 , training accuracy 0.96 , test accuracy 0.96\n",
      "epoch 9 training loss 0.14 , training accuracy 0.96 , test accuracy 0.96\n",
      "epoch 10 training loss 0.13 , training accuracy 0.96 , test accuracy 0.96\n",
      "epoch 11 training loss 0.13 , training accuracy 0.97 , test accuracy 0.96\n",
      "epoch 12 training loss 0.12 , training accuracy 0.97 , test accuracy 0.96\n",
      "epoch 13 training loss 0.12 , training accuracy 0.97 , test accuracy 0.96\n",
      "epoch 14 training loss 0.12 , training accuracy 0.97 , test accuracy 0.96\n",
      "epoch 15 training loss 0.11 , training accuracy 0.97 , test accuracy 0.96\n",
      "epoch 16 training loss 0.11 , training accuracy 0.97 , test accuracy 0.96\n",
      "epoch 17 training loss 0.10 , training accuracy 0.97 , test accuracy 0.96\n",
      "epoch 18 training loss 0.10 , training accuracy 0.97 , test accuracy 0.96\n",
      "epoch 19 training loss 0.10 , training accuracy 0.98 , test accuracy 0.96\n"
     ]
    }
   ],
   "source": [
    "train_original_model(model_2, trainloader, testloader, runs, w_importance_range=w_importance_range, num_classes=num_classes, \n",
    "                     total_experts=total_experts, num_epochs=num_epochs)"
   ]
  },
  {
   "cell_type": "markdown",
   "metadata": {
    "tags": []
   },
   "source": [
    "### Experiment 3: Original MoE model trained with sample similarity regularization, $L_s$"
   ]
  },
  {
   "cell_type": "code",
   "execution_count": 103,
   "metadata": {},
   "outputs": [],
   "source": [
    "# Model with gate and expert parameters initialized to default values\n",
    "model_3 = 'mnist_with_reg_hidden_32'"
   ]
  },
  {
   "cell_type": "code",
   "execution_count": 104,
   "metadata": {},
   "outputs": [],
   "source": [
    "total_experts = 5"
   ]
  },
  {
   "cell_type": "code",
   "execution_count": 105,
   "metadata": {},
   "outputs": [],
   "source": [
    "num_epochs = 20"
   ]
  },
  {
   "cell_type": "code",
   "execution_count": 116,
   "metadata": {},
   "outputs": [
    {
     "name": "stdout",
     "output_type": "stream",
     "text": [
      "w_sample_sim_same_range =  [1e-06, 1e-05]\n",
      "w_sample_sim_diff_range =  [1e-06, 1e-05, 0.0001, 0.001, 0.01, 0.1]\n"
     ]
    }
   ],
   "source": [
    "w_sample_sim_same_range = [1e-6, 1e-5]\n",
    "w_sample_sim_diff_range = [1e-6,1e-5,1e-4,1e-3,1e-2,1e-1]\n",
    "print('w_sample_sim_same_range = ', w_sample_sim_same_range)\n",
    "print('w_sample_sim_diff_range = ', w_sample_sim_diff_range)"
   ]
  },
  {
   "cell_type": "code",
   "execution_count": 117,
   "metadata": {},
   "outputs": [],
   "source": [
    "runs = 10"
   ]
  },
  {
   "cell_type": "code",
   "execution_count": 108,
   "metadata": {
    "scrolled": true,
    "tags": []
   },
   "outputs": [
    {
     "name": "stdout",
     "output_type": "stream",
     "text": [
      "w_importance 0.0\n",
      "w_sample_sim_same 1e-06\n",
      "w_sample_sim_diff 0.1\n",
      "Run: 1\n",
      "epoch 0 training loss 1.72 , training accuracy 0.58 , test accuracy 0.86\n",
      "epoch 1 training loss 0.63 , training accuracy 0.89 , test accuracy 0.90\n",
      "epoch 2 training loss 0.51 , training accuracy 0.91 , test accuracy 0.92\n",
      "epoch 3 training loss 0.45 , training accuracy 0.93 , test accuracy 0.93\n",
      "epoch 4 training loss 0.42 , training accuracy 0.94 , test accuracy 0.94\n",
      "epoch 5 training loss 0.40 , training accuracy 0.94 , test accuracy 0.94\n",
      "epoch 6 training loss 0.38 , training accuracy 0.95 , test accuracy 0.95\n",
      "epoch 7 training loss 0.36 , training accuracy 0.95 , test accuracy 0.95\n",
      "epoch 8 training loss 0.35 , training accuracy 0.95 , test accuracy 0.95\n",
      "epoch 9 training loss 0.34 , training accuracy 0.96 , test accuracy 0.95\n",
      "epoch 10 training loss 0.33 , training accuracy 0.96 , test accuracy 0.95\n",
      "epoch 11 training loss 0.32 , training accuracy 0.96 , test accuracy 0.96\n",
      "epoch 12 training loss 0.32 , training accuracy 0.96 , test accuracy 0.96\n",
      "epoch 13 training loss 0.31 , training accuracy 0.96 , test accuracy 0.96\n",
      "epoch 14 training loss 0.30 , training accuracy 0.97 , test accuracy 0.96\n",
      "epoch 15 training loss 0.30 , training accuracy 0.97 , test accuracy 0.96\n",
      "epoch 16 training loss 0.30 , training accuracy 0.97 , test accuracy 0.96\n",
      "epoch 17 training loss 0.29 , training accuracy 0.97 , test accuracy 0.96\n",
      "epoch 18 training loss 0.29 , training accuracy 0.97 , test accuracy 0.96\n",
      "epoch 19 training loss 0.28 , training accuracy 0.97 , test accuracy 0.96\n"
     ]
    }
   ],
   "source": [
    "train_original_model(model_3, trainloader, testloader, runs, \n",
    "                     w_sample_sim_same_range=w_sample_sim_same_range, w_sample_sim_diff_range=w_sample_sim_diff_range, \n",
    "                     num_classes=num_classes, total_experts=total_experts, num_epochs=num_epochs)"
   ]
  },
  {
   "cell_type": "markdown",
   "metadata": {
    "tags": []
   },
   "source": [
    "### Experiment 4: Training the single model"
   ]
  },
  {
   "cell_type": "code",
   "execution_count": 109,
   "metadata": {},
   "outputs": [],
   "source": [
    "model_4 = 'mnist_single_model_hidden_32'"
   ]
  },
  {
   "cell_type": "code",
   "execution_count": 110,
   "metadata": {},
   "outputs": [],
   "source": [
    "num_epochs = 20"
   ]
  },
  {
   "cell_type": "code",
   "execution_count": 118,
   "metadata": {},
   "outputs": [],
   "source": [
    "runs = 10"
   ]
  },
  {
   "cell_type": "code",
   "execution_count": 112,
   "metadata": {
    "scrolled": true,
    "tags": []
   },
   "outputs": [
    {
     "name": "stdout",
     "output_type": "stream",
     "text": [
      "Run 1\n",
      "epoch 0 training loss 1.63 , training accuracy 0.45 , test accuracy 0.71\n",
      "epoch 1 training loss 0.65 , training accuracy 0.79 , test accuracy 0.83\n",
      "epoch 2 training loss 0.50 , training accuracy 0.84 , test accuracy 0.85\n",
      "epoch 3 training loss 0.46 , training accuracy 0.86 , test accuracy 0.87\n",
      "epoch 4 training loss 0.42 , training accuracy 0.87 , test accuracy 0.88\n",
      "epoch 5 training loss 0.40 , training accuracy 0.87 , test accuracy 0.88\n",
      "epoch 6 training loss 0.39 , training accuracy 0.88 , test accuracy 0.88\n",
      "epoch 7 training loss 0.37 , training accuracy 0.89 , test accuracy 0.89\n",
      "epoch 8 training loss 0.37 , training accuracy 0.89 , test accuracy 0.89\n",
      "epoch 9 training loss 0.36 , training accuracy 0.89 , test accuracy 0.89\n",
      "epoch 10 training loss 0.35 , training accuracy 0.89 , test accuracy 0.90\n",
      "epoch 11 training loss 0.35 , training accuracy 0.89 , test accuracy 0.90\n",
      "epoch 12 training loss 0.34 , training accuracy 0.90 , test accuracy 0.90\n",
      "epoch 13 training loss 0.33 , training accuracy 0.90 , test accuracy 0.90\n",
      "epoch 14 training loss 0.33 , training accuracy 0.90 , test accuracy 0.90\n",
      "epoch 15 training loss 0.33 , training accuracy 0.90 , test accuracy 0.90\n",
      "epoch 16 training loss 0.32 , training accuracy 0.90 , test accuracy 0.91\n",
      "epoch 17 training loss 0.32 , training accuracy 0.90 , test accuracy 0.90\n",
      "epoch 18 training loss 0.32 , training accuracy 0.90 , test accuracy 0.90\n",
      "epoch 19 training loss 0.31 , training accuracy 0.90 , test accuracy 0.90\n"
     ]
    }
   ],
   "source": [
    "train_single_model(model_4, trainloader, testloader, num_classes, num_epochs, runs)"
   ]
  },
  {
   "cell_type": "markdown",
   "metadata": {},
   "source": [
    "### Experiment 5: Original MoE with $L_{importance}$ regularization with:"
   ]
  },
  {
   "cell_type": "markdown",
   "metadata": {},
   "source": [
    "#### 10 Experts"
   ]
  },
  {
   "cell_type": "code",
   "execution_count": 21,
   "metadata": {},
   "outputs": [],
   "source": [
    "# Model with gate and expert parameters initialized to default values\n",
    "model_5_10 = 'mnist_with_reg'"
   ]
  },
  {
   "cell_type": "code",
   "execution_count": 22,
   "metadata": {},
   "outputs": [],
   "source": [
    "total_experts = 10"
   ]
  },
  {
   "cell_type": "code",
   "execution_count": 23,
   "metadata": {},
   "outputs": [],
   "source": [
    "num_epochs = 20"
   ]
  },
  {
   "cell_type": "code",
   "execution_count": 24,
   "metadata": {
    "tags": []
   },
   "outputs": [
    {
     "name": "stdout",
     "output_type": "stream",
     "text": [
      "w_importance_range =  ['1.0']\n"
     ]
    }
   ],
   "source": [
    "w_importance_range = [1.0]\n",
    "print('w_importance_range = ', ['{:.1f}'.format(w) for w in w_importance_range])"
   ]
  },
  {
   "cell_type": "code",
   "execution_count": 25,
   "metadata": {},
   "outputs": [],
   "source": [
    "runs = 1"
   ]
  },
  {
   "cell_type": "code",
   "execution_count": 26,
   "metadata": {
    "scrolled": true,
    "tags": []
   },
   "outputs": [
    {
     "name": "stdout",
     "output_type": "stream",
     "text": [
      "w_importance 1.0\n",
      "w_sample_sim_same 0.0\n",
      "w_sample_sim_diff 0.0\n",
      "Run: 1\n",
      "epoch 0 training loss 1.70 , training accuracy 0.60 , test accuracy 0.84\n",
      "epoch 1 training loss 0.53 , training accuracy 0.87 , test accuracy 0.90\n",
      "epoch 2 training loss 0.34 , training accuracy 0.91 , test accuracy 0.92\n",
      "epoch 3 training loss 0.29 , training accuracy 0.92 , test accuracy 0.93\n",
      "epoch 4 training loss 0.25 , training accuracy 0.93 , test accuracy 0.93\n",
      "epoch 5 training loss 0.24 , training accuracy 0.94 , test accuracy 0.94\n",
      "epoch 6 training loss 0.22 , training accuracy 0.94 , test accuracy 0.94\n",
      "epoch 7 training loss 0.21 , training accuracy 0.94 , test accuracy 0.94\n",
      "epoch 8 training loss 0.20 , training accuracy 0.95 , test accuracy 0.94\n",
      "epoch 9 training loss 0.19 , training accuracy 0.95 , test accuracy 0.94\n",
      "epoch 10 training loss 0.18 , training accuracy 0.95 , test accuracy 0.95\n",
      "epoch 11 training loss 0.18 , training accuracy 0.95 , test accuracy 0.95\n",
      "epoch 12 training loss 0.17 , training accuracy 0.95 , test accuracy 0.95\n",
      "epoch 13 training loss 0.17 , training accuracy 0.96 , test accuracy 0.95\n",
      "epoch 14 training loss 0.16 , training accuracy 0.96 , test accuracy 0.95\n",
      "epoch 15 training loss 0.16 , training accuracy 0.96 , test accuracy 0.95\n",
      "epoch 16 training loss 0.16 , training accuracy 0.96 , test accuracy 0.95\n",
      "epoch 17 training loss 0.15 , training accuracy 0.96 , test accuracy 0.95\n",
      "epoch 18 training loss 0.15 , training accuracy 0.96 , test accuracy 0.95\n",
      "epoch 19 training loss 0.14 , training accuracy 0.96 , test accuracy 0.95\n"
     ]
    }
   ],
   "source": [
    "train_original_model(model_5_10, trainloader, testloader, runs, w_importance_range=w_importance_range, num_classes=num_classes, \n",
    "                     total_experts=total_experts, num_epochs=num_epochs)"
   ]
  },
  {
   "cell_type": "markdown",
   "metadata": {},
   "source": [
    "#### 15 Experts"
   ]
  },
  {
   "cell_type": "code",
   "execution_count": 25,
   "metadata": {},
   "outputs": [],
   "source": [
    "# Model with gate and expert parameters initialized to default values\n",
    "model_5_15 = 'mnist_with_reg'"
   ]
  },
  {
   "cell_type": "code",
   "execution_count": 26,
   "metadata": {},
   "outputs": [],
   "source": [
    "total_experts = 15"
   ]
  },
  {
   "cell_type": "code",
   "execution_count": 27,
   "metadata": {},
   "outputs": [],
   "source": [
    "num_epochs = 10"
   ]
  },
  {
   "cell_type": "code",
   "execution_count": 28,
   "metadata": {
    "tags": []
   },
   "outputs": [
    {
     "name": "stdout",
     "output_type": "stream",
     "text": [
      "w_importance_range =  ['1.0']\n"
     ]
    }
   ],
   "source": [
    "w_importance_range = [1.0]\n",
    "print('w_importance_range = ', ['{:.1f}'.format(w) for w in w_importance_range])"
   ]
  },
  {
   "cell_type": "code",
   "execution_count": 29,
   "metadata": {},
   "outputs": [],
   "source": [
    "runs = 1"
   ]
  },
  {
   "cell_type": "code",
   "execution_count": null,
   "metadata": {
    "scrolled": true,
    "tags": []
   },
   "outputs": [],
   "source": [
    "train_original_model(model_5_15, trainloader, testloader, runs, w_importance_range=w_importance_range, num_classes=num_classes, \n",
    "                     total_experts=total_experts, num_epochs=num_epochs)"
   ]
  },
  {
   "cell_type": "markdown",
   "metadata": {
    "tags": []
   },
   "source": [
    "### Experiment 6: Original MoE model trained with sample similarity regularization, $L_s$ with:"
   ]
  },
  {
   "cell_type": "markdown",
   "metadata": {},
   "source": [
    "#### 10 Experts"
   ]
  },
  {
   "cell_type": "code",
   "execution_count": 27,
   "metadata": {},
   "outputs": [],
   "source": [
    "# Model with gate and expert parameters initialized to default values\n",
    "model_6_10 = 'mnist_with_reg'"
   ]
  },
  {
   "cell_type": "code",
   "execution_count": 104,
   "metadata": {},
   "outputs": [],
   "source": [
    "total_experts = 10"
   ]
  },
  {
   "cell_type": "code",
   "execution_count": 105,
   "metadata": {},
   "outputs": [],
   "source": [
    "num_epochs = 20"
   ]
  },
  {
   "cell_type": "code",
   "execution_count": 28,
   "metadata": {},
   "outputs": [
    {
     "name": "stdout",
     "output_type": "stream",
     "text": [
      "w_sample_sim_same_range =  [1e-06]\n",
      "w_sample_sim_diff_range =  [0.1]\n"
     ]
    }
   ],
   "source": [
    "w_sample_sim_same_range = [1e-6]\n",
    "w_sample_sim_diff_range = [1e-1]\n",
    "print('w_sample_sim_same_range = ', w_sample_sim_same_range)\n",
    "print('w_sample_sim_diff_range = ', w_sample_sim_diff_range)"
   ]
  },
  {
   "cell_type": "code",
   "execution_count": 117,
   "metadata": {},
   "outputs": [],
   "source": [
    "runs = 1"
   ]
  },
  {
   "cell_type": "code",
   "execution_count": 108,
   "metadata": {
    "scrolled": true,
    "tags": []
   },
   "outputs": [
    {
     "name": "stdout",
     "output_type": "stream",
     "text": [
      "w_importance 0.0\n",
      "w_sample_sim_same 1e-06\n",
      "w_sample_sim_diff 0.1\n",
      "Run: 1\n",
      "epoch 0 training loss 1.72 , training accuracy 0.58 , test accuracy 0.86\n",
      "epoch 1 training loss 0.63 , training accuracy 0.89 , test accuracy 0.90\n",
      "epoch 2 training loss 0.51 , training accuracy 0.91 , test accuracy 0.92\n",
      "epoch 3 training loss 0.45 , training accuracy 0.93 , test accuracy 0.93\n",
      "epoch 4 training loss 0.42 , training accuracy 0.94 , test accuracy 0.94\n",
      "epoch 5 training loss 0.40 , training accuracy 0.94 , test accuracy 0.94\n",
      "epoch 6 training loss 0.38 , training accuracy 0.95 , test accuracy 0.95\n",
      "epoch 7 training loss 0.36 , training accuracy 0.95 , test accuracy 0.95\n",
      "epoch 8 training loss 0.35 , training accuracy 0.95 , test accuracy 0.95\n",
      "epoch 9 training loss 0.34 , training accuracy 0.96 , test accuracy 0.95\n",
      "epoch 10 training loss 0.33 , training accuracy 0.96 , test accuracy 0.95\n",
      "epoch 11 training loss 0.32 , training accuracy 0.96 , test accuracy 0.96\n",
      "epoch 12 training loss 0.32 , training accuracy 0.96 , test accuracy 0.96\n",
      "epoch 13 training loss 0.31 , training accuracy 0.96 , test accuracy 0.96\n",
      "epoch 14 training loss 0.30 , training accuracy 0.97 , test accuracy 0.96\n",
      "epoch 15 training loss 0.30 , training accuracy 0.97 , test accuracy 0.96\n",
      "epoch 16 training loss 0.30 , training accuracy 0.97 , test accuracy 0.96\n",
      "epoch 17 training loss 0.29 , training accuracy 0.97 , test accuracy 0.96\n",
      "epoch 18 training loss 0.29 , training accuracy 0.97 , test accuracy 0.96\n",
      "epoch 19 training loss 0.28 , training accuracy 0.97 , test accuracy 0.96\n"
     ]
    }
   ],
   "source": [
    "train_original_model(model_6_10, trainloader, testloader, runs, \n",
    "                     w_sample_sim_same_range=w_sample_sim_same_range, w_sample_sim_diff_range=w_sample_sim_diff_range, \n",
    "                     num_classes=num_classes, total_experts=total_experts, num_epochs=num_epochs)"
   ]
  },
  {
   "cell_type": "markdown",
   "metadata": {},
   "source": [
    "#### 15 Experts"
   ]
  },
  {
   "cell_type": "code",
   "execution_count": null,
   "metadata": {},
   "outputs": [],
   "source": [
    "# Model with gate and expert parameters initialized to default values\n",
    "model_6_15 = 'mnist_with_reg'"
   ]
  },
  {
   "cell_type": "code",
   "execution_count": 104,
   "metadata": {},
   "outputs": [],
   "source": [
    "total_experts = 15"
   ]
  },
  {
   "cell_type": "code",
   "execution_count": 105,
   "metadata": {},
   "outputs": [],
   "source": [
    "num_epochs = 20"
   ]
  },
  {
   "cell_type": "code",
   "execution_count": null,
   "metadata": {},
   "outputs": [],
   "source": [
    "w_sample_sim_same_range = [1e-6]\n",
    "w_sample_sim_diff_range = [1e-1]\n",
    "print('w_sample_sim_same_range = ', w_sample_sim_same_range)\n",
    "print('w_sample_sim_diff_range = ', w_sample_sim_diff_range)"
   ]
  },
  {
   "cell_type": "code",
   "execution_count": 117,
   "metadata": {},
   "outputs": [],
   "source": [
    "runs = 1"
   ]
  },
  {
   "cell_type": "code",
   "execution_count": 108,
   "metadata": {
    "scrolled": true,
    "tags": []
   },
   "outputs": [
    {
     "name": "stdout",
     "output_type": "stream",
     "text": [
      "w_importance 0.0\n",
      "w_sample_sim_same 1e-06\n",
      "w_sample_sim_diff 0.1\n",
      "Run: 1\n",
      "epoch 0 training loss 1.72 , training accuracy 0.58 , test accuracy 0.86\n",
      "epoch 1 training loss 0.63 , training accuracy 0.89 , test accuracy 0.90\n",
      "epoch 2 training loss 0.51 , training accuracy 0.91 , test accuracy 0.92\n",
      "epoch 3 training loss 0.45 , training accuracy 0.93 , test accuracy 0.93\n",
      "epoch 4 training loss 0.42 , training accuracy 0.94 , test accuracy 0.94\n",
      "epoch 5 training loss 0.40 , training accuracy 0.94 , test accuracy 0.94\n",
      "epoch 6 training loss 0.38 , training accuracy 0.95 , test accuracy 0.95\n",
      "epoch 7 training loss 0.36 , training accuracy 0.95 , test accuracy 0.95\n",
      "epoch 8 training loss 0.35 , training accuracy 0.95 , test accuracy 0.95\n",
      "epoch 9 training loss 0.34 , training accuracy 0.96 , test accuracy 0.95\n",
      "epoch 10 training loss 0.33 , training accuracy 0.96 , test accuracy 0.95\n",
      "epoch 11 training loss 0.32 , training accuracy 0.96 , test accuracy 0.96\n",
      "epoch 12 training loss 0.32 , training accuracy 0.96 , test accuracy 0.96\n",
      "epoch 13 training loss 0.31 , training accuracy 0.96 , test accuracy 0.96\n",
      "epoch 14 training loss 0.30 , training accuracy 0.97 , test accuracy 0.96\n",
      "epoch 15 training loss 0.30 , training accuracy 0.97 , test accuracy 0.96\n",
      "epoch 16 training loss 0.30 , training accuracy 0.97 , test accuracy 0.96\n",
      "epoch 17 training loss 0.29 , training accuracy 0.97 , test accuracy 0.96\n",
      "epoch 18 training loss 0.29 , training accuracy 0.97 , test accuracy 0.96\n",
      "epoch 19 training loss 0.28 , training accuracy 0.97 , test accuracy 0.96\n"
     ]
    }
   ],
   "source": [
    "train_original_model(model_6_15, trainloader, testloader, runs, \n",
    "                     w_sample_sim_same_range=w_sample_sim_same_range, w_sample_sim_diff_range=w_sample_sim_diff_range, \n",
    "                     num_classes=num_classes, total_experts=total_experts, num_epochs=num_epochs)"
   ]
  },
  {
   "cell_type": "markdown",
   "metadata": {
    "tags": []
   },
   "source": [
    "## Results"
   ]
  },
  {
   "cell_type": "markdown",
   "metadata": {},
   "source": [
    "### Collect the train error, test error for the trained single models and store in the '../results/mnist_results.csv' file."
   ]
  },
  {
   "cell_type": "code",
   "execution_count": 121,
   "metadata": {},
   "outputs": [],
   "source": [
    "import csv\n",
    "\n",
    "m = 'mnist_single_model_hidden_32'\n",
    "plot_file = generate_plot_file(m, specific=str(num_classes)+'_models.pt')\n",
    "\n",
    "# loading model from pre_trained_model_path. Change this to model_path to use models you train\n",
    "models = torch.load(open(os.path.join(pre_trained_model_path,'mnist', plot_file),'rb'), map_location=device)\n",
    "\n",
    "filename = os.path.join(results_path, 'mnist_results.csv')\n",
    "\n",
    "if os.path.exists(filename):\n",
    "    p = 'a'\n",
    "else:\n",
    "    p = 'w'\n",
    "        \n",
    "header = ['filename', 'train error', 'test error','mutual information', 'sample entropy', 'expert usage']\n",
    "    \n",
    "with open(filename, p) as f:\n",
    "    writer = csv.writer(f)        \n",
    "\n",
    "    if p == 'w':            \n",
    "        writer.writerow(header)\n",
    "    for i, model in enumerate(models['models']):\n",
    "        data = ['']*5\n",
    "        data[0] = m+'_'+str(i)\n",
    "        running_test_accuracy = 0.0\n",
    "        num_batches = 0\n",
    "        train_error = 1-models['history'][i]['accuracy'][-1]\n",
    "        data[1] = train_error\n",
    "        for test_inputs, test_labels in testloader:\n",
    "            test_inputs, test_labels = test_inputs.to(device, non_blocking=True), test_labels.to(device, non_blocking=True)                \n",
    "            outputs = model(test_inputs)\n",
    "            running_test_accuracy += accuracy(outputs, test_labels)\n",
    "            num_batches += 1\n",
    "        test_error = 1-(running_test_accuracy/num_batches)\n",
    "        data[2] = test_error.item()\n",
    "        \n",
    "        writer.writerow(data)\n"
   ]
  },
  {
   "cell_type": "markdown",
   "metadata": {},
   "source": [
    "### Plot the expert selection table of the MoE model trained with $L_{importance}$ and 10 experts"
   ]
  },
  {
   "cell_type": "code",
   "execution_count": 20,
   "metadata": {},
   "outputs": [
    {
     "name": "stdout",
     "output_type": "stream",
     "text": [
      "Model: mnist_with_reg_importance_1.0_10_10_models.pt\n",
      "\n",
      "Experts used by the gate for classification of each digit\n"
     ]
    },
    {
     "data": {
      "image/png": "[encoded data removed]",
      "text/plain": [
       "<Figure size 432x288 with 2 Axes>"
      ]
     },
     "metadata": {
      "needs_background": "light"
     },
     "output_type": "display_data"
    }
   ],
   "source": [
    "import seaborn as sns\n",
    "\n",
    "model_1 = 'mnist_with_reg'\n",
    "\n",
    "m = model_1\n",
    "n_runs = 5\n",
    "n_run = 1\n",
    "total_experts = 10\n",
    "plot_file = generate_plot_file(m, w_importance=1.0, specific=str(num_classes)+'_'+str(total_experts)+'_models.pt')\n",
    "\n",
    "# Note: Here we are loading the pre-trained model from 'pre_trained_model_path. Change this to 'model_path' to load the \n",
    "# model you build above\n",
    "models_scratch = torch.load(open(os.path.join(pre_trained_model_path, 'mnist', plot_file),'rb'), map_location=device)\n",
    "print('Model:', plot_file)\n",
    "\n",
    "# Plotting for the model of the first run\n",
    "model = models_scratch[4]\n",
    "for e_key, e_val in model.items():\n",
    "    cmap = sns.color_palette(\"ch:s=.25,rot=-.25\", as_cmap=True)\n",
    "\n",
    "    for images, labels in testloader:\n",
    "        fig1,ax1 = plt.subplots(1, 1, sharex=False, sharey=False, figsize=(6,4))\n",
    "        images, labels = images.to(device), labels.to(device)\n",
    "        moe_model = e_val['experts'][total_experts]['model']\n",
    "        \n",
    "        # predict the classes for test data\n",
    "        pred = moe_model(images)\n",
    "        pred_labels = torch.argmax(pred, dim=1)\n",
    "\n",
    "        expert_outputs = moe_model.expert_outputs\n",
    "        gate_outputs = moe_model.gate_outputs\n",
    "\n",
    "        # get the experts selected by the gate for each sample\n",
    "        pred_gate_labels = torch.argmax(gate_outputs, dim=1)\n",
    "\n",
    "        # plot the expert selection table\n",
    "        print('\\nExperts used by the gate for classification of each digit')\n",
    "        class_expert_table = np.asarray([[0] * num_classes]*total_experts)\n",
    "        for label, expert in zip(labels, pred_gate_labels):\n",
    "            class_expert_table[expert,label] += 1\n",
    "        sns.heatmap(class_expert_table, yticklabels=['E'+str(i) for i in range(1,total_experts+1)], annot=True, cmap=cmap, fmt='d',annot_kws={\"size\": 14}, ax=ax1)\n",
    "        ax1.set_xlabel('Classes', fontsize=16)\n",
    "        ax1.set_ylabel('Experts',fontsize=16)\n",
    "        ax1.set_xticklabels(ax1.get_xticklabels(), fontsize=16)\n",
    "        ax1.set_yticklabels(ax1.get_yticklabels(), fontsize=10)\n",
    "        image_file = generate_plot_file(m, specific='class_expert_table_run_'+str(n_run)+'_'+str(num_classes)+'_'+str(total_experts)+'_experts.png')\n",
    "        plt.tight_layout()\n",
    "        fig1.savefig(os.path.join(fig_path, image_file))\n",
    "        plt.show()"
   ]
  },
  {
   "cell_type": "markdown",
   "metadata": {},
   "source": [
    "### Plot the expert selection table of the MoE model trained with $L_{importance}$ and 15 experts"
   ]
  },
  {
   "cell_type": "code",
   "execution_count": 21,
   "metadata": {},
   "outputs": [
    {
     "name": "stdout",
     "output_type": "stream",
     "text": [
      "Model: mnist_with_reg_importance_1.0_10_15_models.pt\n",
      "\n",
      "Experts used by the gate for classification of each digit\n"
     ]
    },
    {
     "data": {
      "image/png": "[encoded data removed]",
      "text/plain": [
       "<Figure size 432x288 with 2 Axes>"
      ]
     },
     "metadata": {
      "needs_background": "light"
     },
     "output_type": "display_data"
    }
   ],
   "source": [
    "import seaborn as sns\n",
    "\n",
    "model_1 = 'mnist_with_reg'\n",
    "\n",
    "m = model_1\n",
    "n_runs = 5\n",
    "n_run = 1\n",
    "total_experts = 15\n",
    "plot_file = generate_plot_file(m, w_importance=1.0, specific=str(num_classes)+'_'+str(total_experts)+'_models.pt')\n",
    "\n",
    "# Note: Here we are loading the pre-trained model from 'pre_trained_model_path. Change this to 'model_path' to load the \n",
    "# model you build above\n",
    "models_scratch = torch.load(open(os.path.join(pre_trained_model_path, 'mnist', plot_file),'rb'), map_location=device)\n",
    "print('Model:', plot_file)\n",
    "\n",
    "# Plotting for the model of the first run\n",
    "model = models_scratch[4]\n",
    "for e_key, e_val in model.items():\n",
    "    cmap = sns.color_palette(\"ch:s=.25,rot=-.25\", as_cmap=True)\n",
    "\n",
    "    for images, labels in testloader:\n",
    "        fig1,ax1 = plt.subplots(1, 1, sharex=False, sharey=False, figsize=(6,4))\n",
    "        images, labels = images.to(device), labels.to(device)\n",
    "        moe_model = e_val['experts'][total_experts]['model']\n",
    "        \n",
    "        # predict the classes for test data\n",
    "        pred = moe_model(images)\n",
    "        pred_labels = torch.argmax(pred, dim=1)\n",
    "\n",
    "        expert_outputs = moe_model.expert_outputs\n",
    "        gate_outputs = moe_model.gate_outputs\n",
    "\n",
    "        # get the experts selected by the gate for each sample\n",
    "        pred_gate_labels = torch.argmax(gate_outputs, dim=1)\n",
    "\n",
    "        # plot the expert selection table\n",
    "        print('\\nExperts used by the gate for classification of each digit')\n",
    "        class_expert_table = np.asarray([[0] * num_classes]*total_experts)\n",
    "        for label, expert in zip(labels, pred_gate_labels):\n",
    "            class_expert_table[expert,label] += 1\n",
    "        sns.heatmap(class_expert_table, yticklabels=['E'+str(i) for i in range(1,total_experts+1)], annot=True, cmap=cmap, fmt='d',annot_kws={\"size\": 14}, ax=ax1)\n",
    "        ax1.set_xlabel('Classes', fontsize=16)\n",
    "        ax1.set_ylabel('Experts',fontsize=16)\n",
    "        ax1.set_xticklabels(ax1.get_xticklabels(), fontsize=16)\n",
    "        ax1.set_yticklabels(ax1.get_yticklabels(), fontsize=10)\n",
    "        image_file = generate_plot_file(m, specific='class_expert_table_run_'+str(n_run)+'_'+str(num_classes)+'_'+str(total_experts)+'_experts.png')\n",
    "        plt.tight_layout()\n",
    "        fig1.savefig(os.path.join(fig_path, image_file))\n",
    "        plt.show()"
   ]
  },
  {
   "cell_type": "markdown",
   "metadata": {
    "tags": []
   },
   "source": [
    "### Plot the expert selection table of the MoE model trained with $L_s$ and 10 experts"
   ]
  },
  {
   "cell_type": "code",
   "execution_count": 22,
   "metadata": {},
   "outputs": [
    {
     "name": "stdout",
     "output_type": "stream",
     "text": [
      "Model: mnist_with_reg_sample_sim_same_1e-05_sample_sim_diff_0.0001_10_10_models.pt\n",
      "\n",
      "Experts used by the gate for classification of each digit\n"
     ]
    },
    {
     "data": {
      "image/png": "[encoded data removed]",
      "text/plain": [
       "<Figure size 432x288 with 2 Axes>"
      ]
     },
     "metadata": {
      "needs_background": "light"
     },
     "output_type": "display_data"
    }
   ],
   "source": [
    "import seaborn as sns\n",
    "\n",
    "model_1 = 'mnist_with_reg'\n",
    "\n",
    "m = model_1\n",
    "n_runs = 5\n",
    "n_run = 1\n",
    "total_experts = 10\n",
    "w_sample_sim_same = 1e-5\n",
    "w_sample_sim_diff = 1e-4\n",
    "plot_file = generate_plot_file(m, w_sample_sim_same=w_sample_sim_same, w_sample_sim_diff=w_sample_sim_diff,\n",
    "                               specific=str(num_classes)+'_'+str(total_experts)+'_models.pt')\n",
    "\n",
    "# Note: Here we are loading the pre-trained model from 'pre_trained_model_path. Change this to 'model_path' to load the \n",
    "# model you build above\n",
    "models_scratch = torch.load(open(os.path.join(pre_trained_model_path, 'mnist', plot_file),'rb'), map_location=device)\n",
    "print('Model:', plot_file)\n",
    "\n",
    "# Plotting for the model of the first run\n",
    "model = models_scratch[4]\n",
    "for e_key, e_val in model.items():\n",
    "    cmap = sns.color_palette(\"ch:s=.25,rot=-.25\", as_cmap=True)\n",
    "\n",
    "    for images, labels in testloader:\n",
    "        fig1,ax1 = plt.subplots(1, 1, sharex=False, sharey=False, figsize=(6,4))\n",
    "        images, labels = images.to(device), labels.to(device)\n",
    "        moe_model = e_val['experts'][total_experts]['model']\n",
    "        \n",
    "        # predict the classes for test data\n",
    "        pred = moe_model(images)\n",
    "        pred_labels = torch.argmax(pred, dim=1)\n",
    "\n",
    "        expert_outputs = moe_model.expert_outputs\n",
    "        gate_outputs = moe_model.gate_outputs\n",
    "\n",
    "        # get the experts selected by the gate for each sample\n",
    "        pred_gate_labels = torch.argmax(gate_outputs, dim=1)\n",
    "\n",
    "        # plot the expert selection table\n",
    "        print('\\nExperts used by the gate for classification of each digit')\n",
    "        class_expert_table = np.asarray([[0] * num_classes]*total_experts)\n",
    "        for label, expert in zip(labels, pred_gate_labels):\n",
    "            class_expert_table[expert,label] += 1\n",
    "        sns.heatmap(class_expert_table, yticklabels=['E'+str(i) for i in range(1,total_experts+1)], annot=True, cmap=cmap, fmt='d',annot_kws={\"size\": 14}, ax=ax1)\n",
    "        ax1.set_xlabel('Classes', fontsize=16)\n",
    "        ax1.set_ylabel('Experts',fontsize=16)\n",
    "        ax1.set_xticklabels(ax1.get_xticklabels(), fontsize=16)\n",
    "        ax1.set_yticklabels(ax1.get_yticklabels(), fontsize=10)\n",
    "        image_file = generate_plot_file(m, specific='class_expert_table_run_'+str(n_run)+'_'+str(num_classes)+'_'+str(total_experts)+'_experts.png')\n",
    "        plt.tight_layout()\n",
    "        fig1.savefig(os.path.join(fig_path, image_file))\n",
    "        plt.show()"
   ]
  },
  {
   "cell_type": "markdown",
   "metadata": {
    "tags": []
   },
   "source": [
    "### Plot the expert selection table of the MoE model trained with $L_s$ and 15 experts"
   ]
  },
  {
   "cell_type": "code",
   "execution_count": 23,
   "metadata": {},
   "outputs": [
    {
     "name": "stdout",
     "output_type": "stream",
     "text": [
      "Model: mnist_with_reg_sample_sim_same_1e-05_sample_sim_diff_0.0001_10_15_models.pt\n",
      "\n",
      "Experts used by the gate for classification of each digit\n"
     ]
    },
    {
     "data": {
      "image/png": "[encoded data removed]",
      "text/plain": [
       "<Figure size 432x288 with 2 Axes>"
      ]
     },
     "metadata": {
      "needs_background": "light"
     },
     "output_type": "display_data"
    }
   ],
   "source": [
    "import seaborn as sns\n",
    "\n",
    "model_1 = 'mnist_with_reg'\n",
    "\n",
    "m = model_1\n",
    "n_runs = 5\n",
    "n_run = 1\n",
    "total_experts = 15\n",
    "w_sample_sim_same = 1e-5\n",
    "w_sample_sim_diff = 1e-4\n",
    "plot_file = generate_plot_file(m, w_sample_sim_same=w_sample_sim_same, w_sample_sim_diff=w_sample_sim_diff,\n",
    "                               specific=str(num_classes)+'_'+str(total_experts)+'_models.pt')\n",
    "\n",
    "# Note: Here we are loading the pre-trained model from 'pre_trained_model_path. Change this to 'model_path' to load the \n",
    "# model you build above\n",
    "models_scratch = torch.load(open(os.path.join(pre_trained_model_path, 'mnist', plot_file),'rb'), map_location=device)\n",
    "print('Model:', plot_file)\n",
    "\n",
    "# Plotting for the model of the first run\n",
    "model = models_scratch[0]\n",
    "for e_key, e_val in model.items():\n",
    "    cmap = sns.color_palette(\"ch:s=.25,rot=-.25\", as_cmap=True)\n",
    "\n",
    "    for images, labels in testloader:\n",
    "        fig1,ax1 = plt.subplots(1, 1, sharex=False, sharey=False, figsize=(6,4))\n",
    "        images, labels = images.to(device), labels.to(device)\n",
    "        moe_model = e_val['experts'][total_experts]['model']\n",
    "        \n",
    "        # predict the classes for test data\n",
    "        pred = moe_model(images)\n",
    "        pred_labels = torch.argmax(pred, dim=1)\n",
    "\n",
    "        expert_outputs = moe_model.expert_outputs\n",
    "        gate_outputs = moe_model.gate_outputs\n",
    "\n",
    "        # get the experts selected by the gate for each sample\n",
    "        pred_gate_labels = torch.argmax(gate_outputs, dim=1)\n",
    "\n",
    "        # plot the expert selection table\n",
    "        print('\\nExperts used by the gate for classification of each digit')\n",
    "        class_expert_table = np.asarray([[0] * num_classes]*total_experts)\n",
    "        for label, expert in zip(labels, pred_gate_labels):\n",
    "            class_expert_table[expert,label] += 1\n",
    "        sns.heatmap(class_expert_table, yticklabels=['E'+str(i) for i in range(1,total_experts+1)], annot=True, cmap=cmap, fmt='d',annot_kws={\"size\": 14}, ax=ax1)\n",
    "        ax1.set_xlabel('Classes', fontsize=16)\n",
    "        ax1.set_ylabel('Experts',fontsize=16)\n",
    "        ax1.set_xticklabels(ax1.get_xticklabels(), fontsize=16)\n",
    "        ax1.set_yticklabels(ax1.get_yticklabels(), fontsize=10)\n",
    "        image_file = generate_plot_file(m, specific='class_expert_table_run_'+str(n_run)+'_'+str(num_classes)+'_'+str(total_experts)+'_experts.png')\n",
    "        plt.tight_layout()\n",
    "        fig1.savefig(os.path.join(fig_path, image_file))\n",
    "        plt.show()"
   ]
  },
  {
   "cell_type": "code",
   "execution_count": null,
   "metadata": {},
   "outputs": [],
   "source": []
  }
 ],
 "metadata": {
  "@webio": {
   "lastCommId": null,
   "lastKernelId": null
  },
  "kernelspec": {
   "display_name": "mnn",
   "language": "python",
   "name": "mnn"
  },
  "language_info": {
   "codemirror_mode": {
    "name": "ipython",
    "version": 3
   },
   "file_extension": ".py",
   "mimetype": "text/x-python",
   "name": "python",
   "nbconvert_exporter": "python",
   "pygments_lexer": "ipython3",
   "version": "3.9.12"
  },
  "latex_envs": {
   "LaTeX_envs_menu_present": true,
   "autoclose": false,
   "autocomplete": true,
   "bibliofile": "biblio.bib",
   "cite_by": "apalike",
   "current_citInitial": 1,
   "eqLabelWithNumbers": true,
   "eqNumInitial": 1,
   "hotkeys": {
    "equation": "Ctrl-E",
    "itemize": "Ctrl-I"
   },
   "labels_anchors": false,
   "latex_user_defs": false,
   "report_style_numbering": false,
   "user_envs_cfg": false
  }
 },
 "nbformat": 4,
 "nbformat_minor": 4
}
